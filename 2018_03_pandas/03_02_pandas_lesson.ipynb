{
 "cells": [
  {
   "cell_type": "markdown",
   "metadata": {},
   "source": [
    "### 目的  \n",
    "pandasを使って自由にファイルを読み込みデータを利用できるようになること。  \n",
    "- ファイルの読み込み\n",
    "- ファイルを出力\n",
    "- データの操作"
   ]
  },
  {
   "cell_type": "code",
   "execution_count": 58,
   "metadata": {},
   "outputs": [],
   "source": [
    "import pandas as pd"
   ]
  },
  {
   "cell_type": "markdown",
   "metadata": {},
   "source": [
    "### １００万件以上も読み込める"
   ]
  },
  {
   "cell_type": "code",
   "execution_count": 53,
   "metadata": {},
   "outputs": [
    {
     "name": "stdout",
     "output_type": "stream",
     "text": [
      "CPU times: user 1.92 s, sys: 210 ms, total: 2.13 s\n",
      "Wall time: 2.31 s\n"
     ]
    }
   ],
   "source": [
    "# ↓実行しないでください\n",
    "%time df1 = pd.read_csv('df_all_store_sagyo.csv')"
   ]
  },
  {
   "cell_type": "markdown",
   "metadata": {},
   "source": [
    "### 件数を確認すると"
   ]
  },
  {
   "cell_type": "code",
   "execution_count": 55,
   "metadata": {},
   "outputs": [
    {
     "data": {
      "text/plain": [
       "Unnamed: 0    2461811\n",
       "店ID           2461811\n",
       "更新日           2461811\n",
       "作業名           2461811\n",
       "身分名           2461811\n",
       "顧客ID          2461811\n",
       "訪問ID          2461811\n",
       "dtype: int64"
      ]
     },
     "execution_count": 55,
     "metadata": {},
     "output_type": "execute_result"
    }
   ],
   "source": [
    "df1.count()"
   ]
  },
  {
   "cell_type": "markdown",
   "metadata": {},
   "source": [
    "### 全体で246万件　この件数はエクセルでは扱えません。CSV形式で扱います。"
   ]
  },
  {
   "cell_type": "code",
   "execution_count": 64,
   "metadata": {},
   "outputs": [
    {
     "data": {
      "text/html": [
       "<div>\n",
       "<style>\n",
       "    .dataframe thead tr:only-child th {\n",
       "        text-align: right;\n",
       "    }\n",
       "\n",
       "    .dataframe thead th {\n",
       "        text-align: left;\n",
       "    }\n",
       "\n",
       "    .dataframe tbody tr th {\n",
       "        vertical-align: top;\n",
       "    }\n",
       "</style>\n",
       "<table border=\"1\" class=\"dataframe\">\n",
       "  <thead>\n",
       "    <tr style=\"text-align: right;\">\n",
       "      <th></th>\n",
       "      <th>Unnamed: 0</th>\n",
       "      <th>店ID</th>\n",
       "      <th>更新日</th>\n",
       "      <th>作業名</th>\n",
       "      <th>身分名</th>\n",
       "      <th>顧客ID</th>\n",
       "      <th>訪問ID</th>\n",
       "    </tr>\n",
       "  </thead>\n",
       "  <tbody>\n",
       "    <tr>\n",
       "      <th>2461806</th>\n",
       "      <td>434599</td>\n",
       "      <td>11</td>\n",
       "      <td>2016/08/12</td>\n",
       "      <td>トリートメント</td>\n",
       "      <td>アシスタント</td>\n",
       "      <td>21751</td>\n",
       "      <td>92264</td>\n",
       "    </tr>\n",
       "    <tr>\n",
       "      <th>2461807</th>\n",
       "      <td>434600</td>\n",
       "      <td>11</td>\n",
       "      <td>2016/08/12</td>\n",
       "      <td>シャンプーⅡ（後）</td>\n",
       "      <td>アシスタント</td>\n",
       "      <td>19967</td>\n",
       "      <td>92265</td>\n",
       "    </tr>\n",
       "    <tr>\n",
       "      <th>2461808</th>\n",
       "      <td>434601</td>\n",
       "      <td>11</td>\n",
       "      <td>2016/08/12</td>\n",
       "      <td>カット</td>\n",
       "      <td>技術者</td>\n",
       "      <td>19967</td>\n",
       "      <td>92265</td>\n",
       "    </tr>\n",
       "    <tr>\n",
       "      <th>2461809</th>\n",
       "      <td>434602</td>\n",
       "      <td>11</td>\n",
       "      <td>2016/08/12</td>\n",
       "      <td>ブロー</td>\n",
       "      <td>技術者</td>\n",
       "      <td>19967</td>\n",
       "      <td>92265</td>\n",
       "    </tr>\n",
       "    <tr>\n",
       "      <th>2461810</th>\n",
       "      <td>434603</td>\n",
       "      <td>11</td>\n",
       "      <td>2016/08/12</td>\n",
       "      <td>プレリンス</td>\n",
       "      <td>ジュニアアシスタント</td>\n",
       "      <td>19967</td>\n",
       "      <td>92265</td>\n",
       "    </tr>\n",
       "  </tbody>\n",
       "</table>\n",
       "</div>"
      ],
      "text/plain": [
       "         Unnamed: 0  店ID         更新日        作業名         身分名   顧客ID   訪問ID\n",
       "2461806      434599   11  2016/08/12    トリートメント      アシスタント  21751  92264\n",
       "2461807      434600   11  2016/08/12  シャンプーⅡ（後）      アシスタント  19967  92265\n",
       "2461808      434601   11  2016/08/12        カット         技術者  19967  92265\n",
       "2461809      434602   11  2016/08/12        ブロー         技術者  19967  92265\n",
       "2461810      434603   11  2016/08/12      プレリンス  ジュニアアシスタント  19967  92265"
      ]
     },
     "execution_count": 64,
     "metadata": {},
     "output_type": "execute_result"
    }
   ],
   "source": [
    "df1.tail()"
   ]
  },
  {
   "cell_type": "markdown",
   "metadata": {},
   "source": [
    "### エクセル形式も読み込める"
   ]
  },
  {
   "cell_type": "code",
   "execution_count": 76,
   "metadata": {},
   "outputs": [],
   "source": [
    "df2 = pd.read_excel(io='arealist.xls',header=13,skiprows=14)"
   ]
  },
  {
   "cell_type": "code",
   "execution_count": 77,
   "metadata": {},
   "outputs": [
    {
     "data": {
      "text/html": [
       "<div>\n",
       "<style>\n",
       "    .dataframe thead tr:only-child th {\n",
       "        text-align: right;\n",
       "    }\n",
       "\n",
       "    .dataframe thead th {\n",
       "        text-align: left;\n",
       "    }\n",
       "\n",
       "    .dataframe tbody tr th {\n",
       "        vertical-align: top;\n",
       "    }\n",
       "</style>\n",
       "<table border=\"1\" class=\"dataframe\">\n",
       "  <thead>\n",
       "    <tr style=\"text-align: right;\">\n",
       "      <th></th>\n",
       "      <th>01105A*</th>\n",
       "      <th>01105</th>\n",
       "      <th>0</th>\n",
       "      <th>札幌市 豊平区</th>\n",
       "      <th>Sapporo-shi Toyohira-ku</th>\n",
       "    </tr>\n",
       "  </thead>\n",
       "  <tbody>\n",
       "    <tr>\n",
       "      <th>0</th>\n",
       "      <td>01106A*</td>\n",
       "      <td>1106</td>\n",
       "      <td>0</td>\n",
       "      <td>札幌市 南区</td>\n",
       "      <td>Sapporo-shi Minami-ku</td>\n",
       "    </tr>\n",
       "    <tr>\n",
       "      <th>1</th>\n",
       "      <td>01107A*</td>\n",
       "      <td>1107</td>\n",
       "      <td>0</td>\n",
       "      <td>札幌市 西区</td>\n",
       "      <td>Sapporo-shi Nishi-ku</td>\n",
       "    </tr>\n",
       "    <tr>\n",
       "      <th>2</th>\n",
       "      <td>01108A*</td>\n",
       "      <td>1108</td>\n",
       "      <td>0</td>\n",
       "      <td>札幌市 厚別区</td>\n",
       "      <td>Sapporo-shi Atsubetsu-ku</td>\n",
       "    </tr>\n",
       "    <tr>\n",
       "      <th>3</th>\n",
       "      <td>01109A*</td>\n",
       "      <td>1109</td>\n",
       "      <td>0</td>\n",
       "      <td>札幌市 手稲区</td>\n",
       "      <td>Sapporo-shi Teine-ku</td>\n",
       "    </tr>\n",
       "    <tr>\n",
       "      <th>4</th>\n",
       "      <td>01110A*</td>\n",
       "      <td>1110</td>\n",
       "      <td>0</td>\n",
       "      <td>札幌市 清田区</td>\n",
       "      <td>Sapporo-shi Kiyota-ku</td>\n",
       "    </tr>\n",
       "  </tbody>\n",
       "</table>\n",
       "</div>"
      ],
      "text/plain": [
       "   01105A*  01105  0  札幌市 豊平区   Sapporo-shi Toyohira-ku\n",
       "0  01106A*   1106  0   札幌市 南区     Sapporo-shi Minami-ku\n",
       "1  01107A*   1107  0   札幌市 西区      Sapporo-shi Nishi-ku\n",
       "2  01108A*   1108  0  札幌市 厚別区  Sapporo-shi Atsubetsu-ku\n",
       "3  01109A*   1109  0  札幌市 手稲区      Sapporo-shi Teine-ku\n",
       "4  01110A*   1110  0  札幌市 清田区     Sapporo-shi Kiyota-ku"
      ]
     },
     "execution_count": 77,
     "metadata": {},
     "output_type": "execute_result"
    }
   ],
   "source": [
    "df2.head()"
   ]
  },
  {
   "cell_type": "markdown",
   "metadata": {},
   "source": [
    "### html 形式でテーブルの要素が取得できる。"
   ]
  },
  {
   "cell_type": "code",
   "execution_count": 39,
   "metadata": {},
   "outputs": [],
   "source": [
    "df3 = pd.read_html(\"http://race.netkeiba.com/?pid=special&id=0084\")"
   ]
  },
  {
   "cell_type": "markdown",
   "metadata": {},
   "source": [
    "### apiでの読み込み（githubのapiやろとしたが現在違う方法になっていました）"
   ]
  },
  {
   "cell_type": "markdown",
   "metadata": {},
   "source": [
    "https://github.com/PyGithub/PyGithub"
   ]
  },
  {
   "cell_type": "markdown",
   "metadata": {},
   "source": [
    "### 足りないモジュールをインストール　jupyter上では先頭に\"!\"をつけることでインストール処理をしてくれます。"
   ]
  },
  {
   "cell_type": "code",
   "execution_count": 36,
   "metadata": {},
   "outputs": [
    {
     "name": "stdout",
     "output_type": "stream",
     "text": [
      "Collecting PyGithub\r\n",
      "\u001b[?25l  Downloading https://files.pythonhosted.org/packages/9c/f7/bfd1e1dbb6b78f1485e76c9e5cd34833e69ba9705f9f941c4dc5eac0f0de/PyGithub-1.40.tar.gz (2.6MB)\r\n",
      "\r",
      "\u001b[K    0% |▏                               | 10kB 331kB/s eta 0:00:08\r",
      "\u001b[K    0% |▎                               | 20kB 144kB/s eta 0:00:18\r",
      "\u001b[K    1% |▍                               | 30kB 160kB/s eta 0:00:17\r",
      "\u001b[K    1% |▌                               | 40kB 160kB/s eta 0:00:17\r",
      "\u001b[K    1% |▋                               | 51kB 78kB/s eta 0:00:33\r",
      "\u001b[K    2% |▊                               | 61kB 94kB/s eta 0:00:28\r",
      "\u001b[K    2% |▉                               | 71kB 106kB/s eta 0:00:25\r",
      "\u001b[K    3% |█                               | 81kB 121kB/s eta 0:00:21\r",
      "\u001b[K    3% |█▏                              | 92kB 136kB/s eta 0:00:19\r",
      "\u001b[K    3% |█▎                              | 102kB 151kB/s eta 0:00:17\r",
      "\u001b[K    4% |█▍                              | 112kB 158kB/s eta 0:00:16\r",
      "\u001b[K    4% |█▌                              | 122kB 191kB/s eta 0:00:14\r",
      "\u001b[K    5% |█▋                              | 133kB 191kB/s eta 0:00:14\r",
      "\u001b[K    5% |█▊                              | 143kB 216kB/s eta 0:00:12\r",
      "\u001b[K    5% |█▉                              | 153kB 701kB/s eta 0:00:04\r",
      "\u001b[K    6% |██                              | 163kB 467kB/s eta 0:00:06\r",
      "\u001b[K    6% |██▏                             | 174kB 524kB/s eta 0:00:05\r",
      "\u001b[K    7% |██▎                             | 184kB 169kB/s eta 0:00:15\r",
      "\u001b[K    7% |██▍                             | 194kB 169kB/s eta 0:00:15\r",
      "\u001b[K    7% |██▌                             | 204kB 169kB/s eta 0:00:15\r",
      "\u001b[K    8% |██▋                             | 215kB 169kB/s eta 0:00:15\r",
      "\u001b[K    8% |██▊                             | 225kB 169kB/s eta 0:00:15\r",
      "\u001b[K    8% |██▉                             | 235kB 178kB/s eta 0:00:14\r",
      "\u001b[K    9% |███                             | 245kB 159kB/s eta 0:00:15\r",
      "\u001b[K    9% |███▏                            | 256kB 178kB/s eta 0:00:14\r",
      "\u001b[K    10% |███▎                            | 266kB 173kB/s eta 0:00:14\r",
      "\u001b[K    10% |███▍                            | 276kB 173kB/s eta 0:00:14\r",
      "\u001b[K    10% |███▌                            | 286kB 396kB/s eta 0:00:06\r",
      "\u001b[K    11% |███▋                            | 296kB 220kB/s eta 0:00:11\r",
      "\u001b[K    11% |███▊                            | 307kB 220kB/s eta 0:00:11\r",
      "\u001b[K    12% |███▉                            | 317kB 220kB/s eta 0:00:11\r",
      "\u001b[K    12% |████                            | 327kB 220kB/s eta 0:00:11\r",
      "\u001b[K    12% |████▏                           | 337kB 229kB/s eta 0:00:10\r",
      "\u001b[K    13% |████▎                           | 348kB 253kB/s eta 0:00:09\r",
      "\u001b[K    13% |████▍                           | 358kB 253kB/s eta 0:00:09\r",
      "\u001b[K    14% |████▌                           | 368kB 264kB/s eta 0:00:09\r",
      "\u001b[K    14% |████▋                           | 378kB 226kB/s eta 0:00:10\r",
      "\u001b[K    14% |████▊                           | 389kB 272kB/s eta 0:00:09\r",
      "\u001b[K    15% |████▉                           | 399kB 406kB/s eta 0:00:06\r",
      "\u001b[K    15% |█████                           | 409kB 334kB/s eta 0:00:07\r",
      "\u001b[K    16% |█████▏                          | 419kB 334kB/s eta 0:00:07\r",
      "\u001b[K    16% |█████▎                          | 430kB 263kB/s eta 0:00:09\r",
      "\u001b[K    16% |█████▍                          | 440kB 262kB/s eta 0:00:09\r",
      "\u001b[K    17% |█████▌                          | 450kB 240kB/s eta 0:00:10\r",
      "\u001b[K    17% |█████▋                          | 460kB 160kB/s eta 0:00:14\r",
      "\u001b[K    17% |█████▊                          | 471kB 182kB/s eta 0:00:12\r",
      "\u001b[K    18% |█████▉                          | 481kB 206kB/s eta 0:00:11\r",
      "\u001b[K    18% |██████                          | 491kB 163kB/s eta 0:00:14\r",
      "\u001b[K    19% |██████▏                         | 501kB 187kB/s eta 0:00:12\r",
      "\u001b[K    19% |██████▎                         | 512kB 179kB/s eta 0:00:12\r",
      "\u001b[K    19% |██████▍                         | 522kB 179kB/s eta 0:00:12\r",
      "\u001b[K    20% |██████▌                         | 532kB 168kB/s eta 0:00:13\r",
      "\u001b[K    20% |██████▋                         | 542kB 143kB/s eta 0:00:15\r",
      "\u001b[K    21% |██████▊                         | 552kB 156kB/s eta 0:00:14\r",
      "\u001b[K    21% |██████▉                         | 563kB 163kB/s eta 0:00:13\r",
      "\u001b[K    21% |███████                         | 573kB 154kB/s eta 0:00:14\r",
      "\u001b[K    22% |███████▏                        | 583kB 154kB/s eta 0:00:14\r",
      "\u001b[K    22% |███████▎                        | 593kB 151kB/s eta 0:00:14\r",
      "\u001b[K    23% |███████▍                        | 604kB 151kB/s eta 0:00:14\r",
      "\u001b[K    23% |███████▌                        | 614kB 146kB/s eta 0:00:14\r",
      "\u001b[K    23% |███████▋                        | 624kB 125kB/s eta 0:00:16\r",
      "\u001b[K    24% |███████▊                        | 634kB 147kB/s eta 0:00:14\r",
      "\u001b[K    24% |███████▉                        | 645kB 125kB/s eta 0:00:16\r",
      "\u001b[K    25% |████████                        | 655kB 125kB/s eta 0:00:16\r",
      "\u001b[K    25% |████████▏                       | 665kB 162kB/s eta 0:00:13\r",
      "\u001b[K    25% |████████▎                       | 675kB 144kB/s eta 0:00:14\r",
      "\u001b[K    26% |████████▍                       | 686kB 144kB/s eta 0:00:14\r",
      "\u001b[K    26% |████████▌                       | 696kB 143kB/s eta 0:00:14\r",
      "\u001b[K    26% |████████▋                       | 706kB 118kB/s eta 0:00:17\r",
      "\u001b[K    27% |████████▊                       | 716kB 135kB/s eta 0:00:15\r",
      "\u001b[K    27% |████████▉                       | 727kB 130kB/s eta 0:00:15\r",
      "\u001b[K    28% |█████████                       | 737kB 109kB/s eta 0:00:18\r",
      "\u001b[K    28% |█████████▏                      | 747kB 146kB/s eta 0:00:13\r",
      "\u001b[K    28% |█████████▎                      | 757kB 120kB/s eta 0:00:16\r",
      "\u001b[K    29% |█████████▍                      | 768kB 120kB/s eta 0:00:16\r",
      "\u001b[K    29% |█████████▌                      | 778kB 119kB/s eta 0:00:16\r",
      "\u001b[K    30% |█████████▋                      | 788kB 107kB/s eta 0:00:18\r",
      "\u001b[K    30% |█████████▊                      | 798kB 126kB/s eta 0:00:15\r",
      "\u001b[K    30% |█████████▉                      | 808kB 117kB/s eta 0:00:16\r",
      "\u001b[K    31% |██████████                      | 819kB 107kB/s eta 0:00:17\r",
      "\u001b[K    31% |██████████▏                     | 829kB 126kB/s eta 0:00:15\r",
      "\u001b[K    32% |██████████▎                     | 839kB 128kB/s eta 0:00:14\r",
      "\u001b[K    32% |██████████▍                     | 849kB 128kB/s eta 0:00:14\r",
      "\u001b[K    32% |██████████▌                     | 860kB 129kB/s eta 0:00:14\r",
      "\u001b[K    33% |██████████▋                     | 870kB 95kB/s eta 0:00:19\r",
      "\u001b[K    33% |██████████▊                     | 880kB 107kB/s eta 0:00:17\r",
      "\u001b[K    33% |██████████▉                     | 890kB 119kB/s eta 0:00:15\r",
      "\u001b[K    34% |███████████                     | 901kB 96kB/s eta 0:00:18\r",
      "\u001b[K    34% |███████████▏                    | 911kB 120kB/s eta 0:00:15\r",
      "\u001b[K    35% |███████████▎                    | 921kB 130kB/s eta 0:00:14\r",
      "\u001b[K    35% |███████████▍                    | 931kB 111kB/s eta 0:00:16\r",
      "\u001b[K    35% |███████████▌                    | 942kB 116kB/s eta 0:00:15\r",
      "\u001b[K    36% |███████████▋                    | 952kB 93kB/s eta 0:00:18\r",
      "\u001b[K    36% |███████████▊                    | 962kB 107kB/s eta 0:00:16\r",
      "\u001b[K    37% |███████████▉                    | 972kB 128kB/s eta 0:00:13\r",
      "\u001b[K    37% |████████████                    | 983kB 105kB/s eta 0:00:16\r",
      "\u001b[K    37% |████████████▏                   | 993kB 105kB/s eta 0:00:16\r",
      "\u001b[K    38% |████████████▎                   | 1.0MB 115kB/s eta 0:00:14\r",
      "\u001b[K    38% |████████████▍                   | 1.0MB 115kB/s eta 0:00:14\r",
      "\u001b[K    39% |████████████▌                   | 1.0MB 105kB/s eta 0:00:16\r",
      "\u001b[K    39% |████████████▋                   | 1.0MB 104kB/s eta 0:00:16\r",
      "\u001b[K    39% |████████████▊                   | 1.0MB 116kB/s eta 0:00:14\r",
      "\u001b[K    40% |████████████▉                   | 1.1MB 121kB/s eta 0:00:13\r",
      "\u001b[K    40% |█████████████                   | 1.1MB 121kB/s eta 0:00:13\r",
      "\u001b[K    41% |█████████████▏                  | 1.1MB 130kB/s eta 0:00:12\r",
      "\u001b[K    41% |█████████████▎                  | 1.1MB 108kB/s eta 0:00:15\r",
      "\u001b[K    41% |█████████████▍                  | 1.1MB 108kB/s eta 0:00:15\r",
      "\u001b[K    42% |█████████████▌                  | 1.1MB 124kB/s eta 0:00:13\r",
      "\u001b[K    42% |█████████████▋                  | 1.1MB 101kB/s eta 0:00:15\r",
      "\u001b[K    42% |█████████████▊                  | 1.1MB 113kB/s eta 0:00:14\r",
      "\u001b[K    43% |█████████████▉                  | 1.1MB 108kB/s eta 0:00:14\r",
      "\u001b[K    43% |██████████████                  | 1.1MB 90kB/s eta 0:00:17\r",
      "\u001b[K    44% |██████████████▏                 | 1.2MB 106kB/s eta 0:00:14\r",
      "\u001b[K    44% |██████████████▎                 | 1.2MB 93kB/s eta 0:00:16\r",
      "\u001b[K    44% |██████████████▍                 | 1.2MB 99kB/s eta 0:00:15\r",
      "\u001b[K    45% |██████████████▌                 | 1.2MB 128kB/s eta 0:00:12\r",
      "\u001b[K    45% |██████████████▋                 | 1.2MB 114kB/s eta 0:00:13\r",
      "\u001b[K    46% |██████████████▊                 | 1.2MB 103kB/s eta 0:00:14\r",
      "\u001b[K    46% |██████████████▉                 | 1.2MB 93kB/s eta 0:00:15\r",
      "\u001b[K    46% |███████████████                 | 1.2MB 89kB/s eta 0:00:16\r",
      "\u001b[K    47% |███████████████▏                | 1.2MB 106kB/s eta 0:00:13\r",
      "\u001b[K    47% |███████████████▎                | 1.2MB 102kB/s eta 0:00:14\r",
      "\u001b[K    48% |███████████████▍                | 1.3MB 102kB/s eta 0:00:14\r",
      "\u001b[K    48% |███████████████▌                | 1.3MB 103kB/s eta 0:00:14\r",
      "\u001b[K    48% |███████████████▋                | 1.3MB 83kB/s eta 0:00:17\r",
      "\u001b[K    49% |███████████████▊                | 1.3MB 91kB/s eta 0:00:15\r",
      "\u001b[K    49% |███████████████▉                | 1.3MB 87kB/s eta 0:00:16\r",
      "\u001b[K    50% |████████████████                | 1.3MB 92kB/s eta 0:00:15\r",
      "\u001b[K    50% |████████████████▏               | 1.3MB 111kB/s eta 0:00:12\r",
      "\u001b[K    50% |████████████████▎               | 1.3MB 104kB/s eta 0:00:13\r",
      "\u001b[K    51% |████████████████▍               | 1.3MB 92kB/s eta 0:00:14\r",
      "\u001b[K    51% |████████████████▌               | 1.4MB 98kB/s eta 0:00:13\r",
      "\u001b[K    51% |████████████████▋               | 1.4MB 84kB/s eta 0:00:15\r",
      "\u001b[K    52% |████████████████▊               | 1.4MB 95kB/s eta 0:00:14\r",
      "\u001b[K    52% |████████████████▉               | 1.4MB 106kB/s eta 0:00:12\r",
      "\u001b[K    53% |█████████████████               | 1.4MB 79kB/s eta 0:00:16\r",
      "\u001b[K    53% |█████████████████▏              | 1.4MB 89kB/s eta 0:00:14\r",
      "\u001b[K    53% |█████████████████▎              | 1.4MB 89kB/s eta 0:00:14\r",
      "\u001b[K    54% |█████████████████▍              | 1.4MB 98kB/s eta 0:00:13\r",
      "\u001b[K    54% |█████████████████▌              | 1.4MB 86kB/s eta 0:00:14\r",
      "\u001b[K    55% |█████████████████▋              | 1.4MB 93kB/s eta 0:00:13\r",
      "\u001b[K    55% |█████████████████▊              | 1.5MB 98kB/s eta 0:00:12\r",
      "\u001b[K    55% |█████████████████▉              | 1.5MB 95kB/s eta 0:00:13\r",
      "\u001b[K    56% |██████████████████              | 1.5MB 63kB/s eta 0:00:19\r",
      "\u001b[K    56% |██████████████████▏             | 1.5MB 68kB/s eta 0:00:17\r",
      "\u001b[K    57% |██████████████████▎             | 1.5MB 68kB/s eta 0:00:17\r",
      "\u001b[K    57% |██████████████████▍             | 1.5MB 68kB/s eta 0:00:17\r",
      "\u001b[K    57% |██████████████████▌             | 1.5MB 57kB/s eta 0:00:20\r",
      "\u001b[K    58% |██████████████████▋             | 1.5MB 49kB/s eta 0:00:23\r",
      "\u001b[K    58% |██████████████████▊             | 1.5MB 56kB/s eta 0:00:20\r",
      "\u001b[K    58% |██████████████████▉             | 1.5MB 51kB/s eta 0:00:22\r",
      "\u001b[K    59% |███████████████████             | 1.6MB 48kB/s eta 0:00:23\r",
      "\u001b[K    59% |███████████████████▏            | 1.6MB 53kB/s eta 0:00:20\r",
      "\u001b[K    60% |███████████████████▎            | 1.6MB 64kB/s eta 0:00:17\r",
      "\u001b[K    60% |███████████████████▍            | 1.6MB 62kB/s eta 0:00:17\r",
      "\u001b[K    60% |███████████████████▌            | 1.6MB 64kB/s eta 0:00:16\r",
      "\u001b[K    61% |███████████████████▋            | 1.6MB 55kB/s eta 0:00:19\r",
      "\u001b[K    61% |███████████████████▊            | 1.6MB 67kB/s eta 0:00:15\r",
      "\u001b[K    62% |███████████████████▉            | 1.6MB 70kB/s eta 0:00:15\r",
      "\u001b[K    62% |████████████████████            | 1.6MB 62kB/s eta 0:00:16\r",
      "\u001b[K    62% |████████████████████▏           | 1.6MB 72kB/s eta 0:00:14\r",
      "\u001b[K    63% |████████████████████▎           | 1.7MB 74kB/s eta 0:00:13\r",
      "\u001b[K    63% |████████████████████▍           | 1.7MB 74kB/s eta 0:00:13\r",
      "\u001b[K    64% |████████████████████▌           | 1.7MB 74kB/s eta 0:00:13\r",
      "\u001b[K    64% |████████████████████▋           | 1.7MB 69kB/s eta 0:00:14\r",
      "\u001b[K    64% |████████████████████▊           | 1.7MB 84kB/s eta 0:00:11\r",
      "\u001b[K    65% |████████████████████▉           | 1.7MB 100kB/s eta 0:00:10\r",
      "\u001b[K    65% |█████████████████████           | 1.7MB 94kB/s eta 0:00:10\r",
      "\u001b[K    66% |█████████████████████▏          | 1.7MB 106kB/s eta 0:00:09\r",
      "\u001b[K    66% |█████████████████████▎          | 1.7MB 109kB/s eta 0:00:09\r",
      "\u001b[K    66% |█████████████████████▍          | 1.8MB 109kB/s eta 0:00:08\r",
      "\u001b[K    67% |█████████████████████▌          | 1.8MB 116kB/s eta 0:00:08\r",
      "\u001b[K    67% |█████████████████████▋          | 1.8MB 100kB/s eta 0:00:09\r",
      "\u001b[K    67% |█████████████████████▊          | 1.8MB 125kB/s eta 0:00:07\r",
      "\u001b[K    68% |█████████████████████▉          | 1.8MB 134kB/s eta 0:00:07\r",
      "\u001b[K    68% |██████████████████████          | 1.8MB 117kB/s eta 0:00:07\r",
      "\u001b[K    69% |██████████████████████▏         | 1.8MB 128kB/s eta 0:00:07\r",
      "\u001b[K    69% |██████████████████████▎         | 1.8MB 121kB/s eta 0:00:07\r",
      "\u001b[K    69% |██████████████████████▍         | 1.8MB 136kB/s eta 0:00:06\r",
      "\u001b[K    70% |██████████████████████▌         | 1.8MB 152kB/s eta 0:00:06\r",
      "\u001b[K    70% |██████████████████████▋         | 1.9MB 137kB/s eta 0:00:06\r",
      "\u001b[K    71% |██████████████████████▊         | 1.9MB 152kB/s eta 0:00:05\r",
      "\u001b[K    71% |██████████████████████▉         | 1.9MB 160kB/s eta 0:00:05\r",
      "\u001b[K    71% |███████████████████████         | 1.9MB 140kB/s eta 0:00:06\r",
      "\u001b[K    72% |███████████████████████▏        | 1.9MB 162kB/s eta 0:00:05\r",
      "\u001b[K    72% |███████████████████████▎        | 1.9MB 164kB/s eta 0:00:05\r",
      "\u001b[K    73% |███████████████████████▍        | 1.9MB 164kB/s eta 0:00:05\r",
      "\u001b[K    73% |███████████████████████▌        | 1.9MB 139kB/s eta 0:00:05\r",
      "\u001b[K    73% |███████████████████████▋        | 1.9MB 139kB/s eta 0:00:05\r",
      "\u001b[K    74% |███████████████████████▊        | 1.9MB 156kB/s eta 0:00:05\r",
      "\u001b[K    74% |███████████████████████▉        | 2.0MB 154kB/s eta 0:00:05\r",
      "\u001b[K    75% |████████████████████████        | 2.0MB 161kB/s eta 0:00:05\r",
      "\u001b[K    75% |████████████████████████▏       | 2.0MB 170kB/s eta 0:00:04\r",
      "\u001b[K    75% |████████████████████████▎       | 2.0MB 176kB/s eta 0:00:04\r",
      "\u001b[K    76% |████████████████████████▍       | 2.0MB 154kB/s eta 0:00:05\r",
      "\u001b[K    76% |████████████████████████▌       | 2.0MB 157kB/s eta 0:00:04\r",
      "\u001b[K    76% |████████████████████████▋       | 2.0MB 138kB/s eta 0:00:05\r",
      "\u001b[K    77% |████████████████████████▊       | 2.0MB 199kB/s eta 0:00:03\r",
      "\u001b[K    77% |████████████████████████▉       | 2.0MB 165kB/s eta 0:00:04\r",
      "\u001b[K    78% |█████████████████████████       | 2.0MB 142kB/s eta 0:00:05\r",
      "\u001b[K    78% |█████████████████████████▏      | 2.1MB 159kB/s eta 0:00:04\r",
      "\u001b[K    78% |█████████████████████████▎      | 2.1MB 144kB/s eta 0:00:04\r",
      "\u001b[K    79% |█████████████████████████▍      | 2.1MB 160kB/s eta 0:00:04\r",
      "\u001b[K    79% |█████████████████████████▌      | 2.1MB 150kB/s eta 0:00:04\r",
      "\u001b[K    80% |█████████████████████████▋      | 2.1MB 146kB/s eta 0:00:04\r",
      "\u001b[K    80% |█████████████████████████▊      | 2.1MB 168kB/s eta 0:00:04\r",
      "\u001b[K    80% |█████████████████████████▉      | 2.1MB 173kB/s eta 0:00:03\r",
      "\u001b[K    81% |██████████████████████████      | 2.1MB 143kB/s eta 0:00:04\r",
      "\u001b[K    81% |██████████████████████████▏     | 2.1MB 169kB/s eta 0:00:03\r",
      "\u001b[K    82% |██████████████████████████▎     | 2.2MB 164kB/s eta 0:00:03\r",
      "\u001b[K    82% |██████████████████████████▍     | 2.2MB 164kB/s eta 0:00:03\r",
      "\u001b[K    82% |██████████████████████████▌     | 2.2MB 169kB/s eta 0:00:03\r",
      "\u001b[K    83% |██████████████████████████▋     | 2.2MB 142kB/s eta 0:00:04\r",
      "\u001b[K    83% |██████████████████████████▊     | 2.2MB 169kB/s eta 0:00:03\r",
      "\u001b[K    83% |██████████████████████████▉     | 2.2MB 183kB/s eta 0:00:03\r",
      "\u001b[K    84% |███████████████████████████     | 2.2MB 156kB/s eta 0:00:03\r",
      "\u001b[K    84% |███████████████████████████▏    | 2.2MB 175kB/s eta 0:00:03\r",
      "\u001b[K    85% |███████████████████████████▎    | 2.2MB 184kB/s eta 0:00:03\r",
      "\u001b[K    85% |███████████████████████████▍    | 2.2MB 184kB/s eta 0:00:03\r",
      "\u001b[K    85% |███████████████████████████▌    | 2.3MB 204kB/s eta 0:00:02\r",
      "\u001b[K    86% |███████████████████████████▋    | 2.3MB 173kB/s eta 0:00:03\r",
      "\u001b[K    86% |███████████████████████████▊    | 2.3MB 197kB/s eta 0:00:02\r",
      "\u001b[K    87% |███████████████████████████▉    | 2.3MB 209kB/s eta 0:00:02\r",
      "\u001b[K    87% |████████████████████████████    | 2.3MB 183kB/s eta 0:00:02\r",
      "\u001b[K    87% |████████████████████████████▏   | 2.3MB 203kB/s eta 0:00:02\r",
      "\u001b[K    88% |████████████████████████████▎   | 2.3MB 215kB/s eta 0:00:02\r",
      "\u001b[K    88% |████████████████████████████▍   | 2.3MB 215kB/s eta 0:00:02\r",
      "\u001b[K    89% |████████████████████████████▌   | 2.3MB 216kB/s eta 0:00:02\r",
      "\u001b[K    89% |████████████████████████████▋   | 2.3MB 170kB/s eta 0:00:02\r",
      "\u001b[K    89% |████████████████████████████▊   | 2.4MB 191kB/s eta 0:00:02\r",
      "\u001b[K    90% |████████████████████████████▉   | 2.4MB 204kB/s eta 0:00:02\r",
      "\u001b[K    90% |█████████████████████████████   | 2.4MB 171kB/s eta 0:00:02\r",
      "\u001b[K    91% |█████████████████████████████▏  | 2.4MB 199kB/s eta 0:00:02\r",
      "\u001b[K    91% |█████████████████████████████▎  | 2.4MB 194kB/s eta 0:00:02\r",
      "\u001b[K    91% |█████████████████████████████▍  | 2.4MB 194kB/s eta 0:00:02\r",
      "\u001b[K    92% |█████████████████████████████▌  | 2.4MB 194kB/s eta 0:00:02\r",
      "\u001b[K    92% |█████████████████████████████▋  | 2.4MB 161kB/s eta 0:00:02\r",
      "\u001b[K    92% |█████████████████████████████▊  | 2.4MB 190kB/s eta 0:00:01\r",
      "\u001b[K    93% |█████████████████████████████▉  | 2.4MB 153kB/s eta 0:00:02\r",
      "\u001b[K    93% |██████████████████████████████  | 2.5MB 152kB/s eta 0:00:02\r",
      "\u001b[K    94% |██████████████████████████████▏ | 2.5MB 166kB/s eta 0:00:01\r",
      "\u001b[K    94% |██████████████████████████████▎ | 2.5MB 186kB/s eta 0:00:01\r",
      "\u001b[K    94% |██████████████████████████████▍ | 2.5MB 186kB/s eta 0:00:01\r",
      "\u001b[K    95% |██████████████████████████████▌ | 2.5MB 170kB/s eta 0:00:01\r",
      "\u001b[K    95% |██████████████████████████████▋ | 2.5MB 147kB/s eta 0:00:01\r",
      "\u001b[K    96% |██████████████████████████████▊ | 2.5MB 163kB/s eta 0:00:01\r",
      "\u001b[K    96% |██████████████████████████████▉ | 2.5MB 167kB/s eta 0:00:01\r",
      "\u001b[K    96% |███████████████████████████████ | 2.5MB 147kB/s eta 0:00:01\r",
      "\u001b[K    97% |███████████████████████████████▏| 2.5MB 232kB/s eta 0:00:01\r",
      "\u001b[K    97% |███████████████████████████████▎| 2.6MB 193kB/s eta 0:00:01\r",
      "\u001b[K    98% |███████████████████████████████▍| 2.6MB 193kB/s eta 0:00:01\r",
      "\u001b[K    98% |███████████████████████████████▌| 2.6MB 178kB/s eta 0:00:01\r",
      "\u001b[K    98% |███████████████████████████████▋| 2.6MB 158kB/s eta 0:00:01\r",
      "\u001b[K    99% |███████████████████████████████▊| 2.6MB 200kB/s eta 0:00:01\r",
      "\u001b[K    99% |███████████████████████████████▉| 2.6MB 218kB/s eta 0:00:01\r",
      "\u001b[K    100% |████████████████████████████████| 2.6MB 207kB/s \r\n",
      "\u001b[?25hRequirement already satisfied: requests>=2.14.0 in /Users/yobe/.pyenv/versions/anaconda3-5.0.0/lib/python3.6/site-packages (from PyGithub) (2.18.4)\r\n",
      "Collecting pyjwt (from PyGithub)\r\n",
      "  Downloading https://files.pythonhosted.org/packages/93/d1/3378cc8184a6524dc92993090ee8b4c03847c567e298305d6cf86987e005/PyJWT-1.6.4-py2.py3-none-any.whl\r\n",
      "Requirement already satisfied: chardet<3.1.0,>=3.0.2 in /Users/yobe/.pyenv/versions/anaconda3-5.0.0/lib/python3.6/site-packages (from requests>=2.14.0->PyGithub) (3.0.4)\r\n",
      "Requirement already satisfied: idna<2.7,>=2.5 in /Users/yobe/.pyenv/versions/anaconda3-5.0.0/lib/python3.6/site-packages (from requests>=2.14.0->PyGithub) (2.6)\r\n",
      "Requirement already satisfied: urllib3<1.23,>=1.21.1 in /Users/yobe/.pyenv/versions/anaconda3-5.0.0/lib/python3.6/site-packages (from requests>=2.14.0->PyGithub) (1.22)\r\n",
      "Requirement already satisfied: certifi>=2017.4.17 in /Users/yobe/.pyenv/versions/anaconda3-5.0.0/lib/python3.6/site-packages (from requests>=2.14.0->PyGithub) (2017.7.27.1)\r\n",
      "Building wheels for collected packages: PyGithub\r\n",
      "  Running setup.py bdist_wheel for PyGithub ... \u001b[?25l-\b \b\\\b \b|\b \b/\b \b-\b \b\\\b \b|\b \b/\b \b-\b \b\\\b \b|\b \bdone\r\n",
      "\u001b[?25h  Stored in directory: /Users/yobe/Library/Caches/pip/wheels/e5/e6/b7/4ee47c4a963acee836dc957b60cc5b458e3f8f5ce0af9a08dd\r\n",
      "Successfully built PyGithub\r\n",
      "Installing collected packages: pyjwt, PyGithub\r\n",
      "Successfully installed PyGithub-1.40 pyjwt-1.6.4\r\n",
      "\u001b[33mYou are using pip version 10.0.1, however version 18.0 is available.\r\n",
      "You should consider upgrading via the 'pip install --upgrade pip' command.\u001b[0m\r\n"
     ]
    }
   ],
   "source": [
    "! pip install PyGithub"
   ]
  },
  {
   "cell_type": "code",
   "execution_count": 38,
   "metadata": {},
   "outputs": [
    {
     "ename": "ConnectionError",
     "evalue": "HTTPSConnectionPool(host='%7bhostname%7d', port=443): Max retries exceeded with url: /api/v3/user/repos (Caused by NewConnectionError('<urllib3.connection.VerifiedHTTPSConnection object at 0x118302be0>: Failed to establish a new connection: [Errno 8] nodename nor servname provided, or not known',))",
     "output_type": "error",
     "traceback": [
      "\u001b[0;31m---------------------------------------------------------------------------\u001b[0m",
      "\u001b[0;31mgaierror\u001b[0m                                  Traceback (most recent call last)",
      "\u001b[0;32m~/.pyenv/versions/anaconda3-5.0.0/lib/python3.6/site-packages/urllib3/connection.py\u001b[0m in \u001b[0;36m_new_conn\u001b[0;34m(self)\u001b[0m\n\u001b[1;32m    140\u001b[0m             conn = connection.create_connection(\n\u001b[0;32m--> 141\u001b[0;31m                 (self.host, self.port), self.timeout, **extra_kw)\n\u001b[0m\u001b[1;32m    142\u001b[0m \u001b[0;34m\u001b[0m\u001b[0m\n",
      "\u001b[0;32m~/.pyenv/versions/anaconda3-5.0.0/lib/python3.6/site-packages/urllib3/util/connection.py\u001b[0m in \u001b[0;36mcreate_connection\u001b[0;34m(address, timeout, source_address, socket_options)\u001b[0m\n\u001b[1;32m     59\u001b[0m \u001b[0;34m\u001b[0m\u001b[0m\n\u001b[0;32m---> 60\u001b[0;31m     \u001b[0;32mfor\u001b[0m \u001b[0mres\u001b[0m \u001b[0;32min\u001b[0m \u001b[0msocket\u001b[0m\u001b[0;34m.\u001b[0m\u001b[0mgetaddrinfo\u001b[0m\u001b[0;34m(\u001b[0m\u001b[0mhost\u001b[0m\u001b[0;34m,\u001b[0m \u001b[0mport\u001b[0m\u001b[0;34m,\u001b[0m \u001b[0mfamily\u001b[0m\u001b[0;34m,\u001b[0m \u001b[0msocket\u001b[0m\u001b[0;34m.\u001b[0m\u001b[0mSOCK_STREAM\u001b[0m\u001b[0;34m)\u001b[0m\u001b[0;34m:\u001b[0m\u001b[0;34m\u001b[0m\u001b[0m\n\u001b[0m\u001b[1;32m     61\u001b[0m         \u001b[0maf\u001b[0m\u001b[0;34m,\u001b[0m \u001b[0msocktype\u001b[0m\u001b[0;34m,\u001b[0m \u001b[0mproto\u001b[0m\u001b[0;34m,\u001b[0m \u001b[0mcanonname\u001b[0m\u001b[0;34m,\u001b[0m \u001b[0msa\u001b[0m \u001b[0;34m=\u001b[0m \u001b[0mres\u001b[0m\u001b[0;34m\u001b[0m\u001b[0m\n",
      "\u001b[0;32m~/.pyenv/versions/anaconda3-5.0.0/lib/python3.6/socket.py\u001b[0m in \u001b[0;36mgetaddrinfo\u001b[0;34m(host, port, family, type, proto, flags)\u001b[0m\n\u001b[1;32m    742\u001b[0m     \u001b[0maddrlist\u001b[0m \u001b[0;34m=\u001b[0m \u001b[0;34m[\u001b[0m\u001b[0;34m]\u001b[0m\u001b[0;34m\u001b[0m\u001b[0m\n\u001b[0;32m--> 743\u001b[0;31m     \u001b[0;32mfor\u001b[0m \u001b[0mres\u001b[0m \u001b[0;32min\u001b[0m \u001b[0m_socket\u001b[0m\u001b[0;34m.\u001b[0m\u001b[0mgetaddrinfo\u001b[0m\u001b[0;34m(\u001b[0m\u001b[0mhost\u001b[0m\u001b[0;34m,\u001b[0m \u001b[0mport\u001b[0m\u001b[0;34m,\u001b[0m \u001b[0mfamily\u001b[0m\u001b[0;34m,\u001b[0m \u001b[0mtype\u001b[0m\u001b[0;34m,\u001b[0m \u001b[0mproto\u001b[0m\u001b[0;34m,\u001b[0m \u001b[0mflags\u001b[0m\u001b[0;34m)\u001b[0m\u001b[0;34m:\u001b[0m\u001b[0;34m\u001b[0m\u001b[0m\n\u001b[0m\u001b[1;32m    744\u001b[0m         \u001b[0maf\u001b[0m\u001b[0;34m,\u001b[0m \u001b[0msocktype\u001b[0m\u001b[0;34m,\u001b[0m \u001b[0mproto\u001b[0m\u001b[0;34m,\u001b[0m \u001b[0mcanonname\u001b[0m\u001b[0;34m,\u001b[0m \u001b[0msa\u001b[0m \u001b[0;34m=\u001b[0m \u001b[0mres\u001b[0m\u001b[0;34m\u001b[0m\u001b[0m\n",
      "\u001b[0;31mgaierror\u001b[0m: [Errno 8] nodename nor servname provided, or not known",
      "\nDuring handling of the above exception, another exception occurred:\n",
      "\u001b[0;31mNewConnectionError\u001b[0m                        Traceback (most recent call last)",
      "\u001b[0;32m~/.pyenv/versions/anaconda3-5.0.0/lib/python3.6/site-packages/urllib3/connectionpool.py\u001b[0m in \u001b[0;36murlopen\u001b[0;34m(self, method, url, body, headers, retries, redirect, assert_same_host, timeout, pool_timeout, release_conn, chunked, body_pos, **response_kw)\u001b[0m\n\u001b[1;32m    600\u001b[0m                                                   \u001b[0mbody\u001b[0m\u001b[0;34m=\u001b[0m\u001b[0mbody\u001b[0m\u001b[0;34m,\u001b[0m \u001b[0mheaders\u001b[0m\u001b[0;34m=\u001b[0m\u001b[0mheaders\u001b[0m\u001b[0;34m,\u001b[0m\u001b[0;34m\u001b[0m\u001b[0m\n\u001b[0;32m--> 601\u001b[0;31m                                                   chunked=chunked)\n\u001b[0m\u001b[1;32m    602\u001b[0m \u001b[0;34m\u001b[0m\u001b[0m\n",
      "\u001b[0;32m~/.pyenv/versions/anaconda3-5.0.0/lib/python3.6/site-packages/urllib3/connectionpool.py\u001b[0m in \u001b[0;36m_make_request\u001b[0;34m(self, conn, method, url, timeout, chunked, **httplib_request_kw)\u001b[0m\n\u001b[1;32m    345\u001b[0m         \u001b[0;32mtry\u001b[0m\u001b[0;34m:\u001b[0m\u001b[0;34m\u001b[0m\u001b[0m\n\u001b[0;32m--> 346\u001b[0;31m             \u001b[0mself\u001b[0m\u001b[0;34m.\u001b[0m\u001b[0m_validate_conn\u001b[0m\u001b[0;34m(\u001b[0m\u001b[0mconn\u001b[0m\u001b[0;34m)\u001b[0m\u001b[0;34m\u001b[0m\u001b[0m\n\u001b[0m\u001b[1;32m    347\u001b[0m         \u001b[0;32mexcept\u001b[0m \u001b[0;34m(\u001b[0m\u001b[0mSocketTimeout\u001b[0m\u001b[0;34m,\u001b[0m \u001b[0mBaseSSLError\u001b[0m\u001b[0;34m)\u001b[0m \u001b[0;32mas\u001b[0m \u001b[0me\u001b[0m\u001b[0;34m:\u001b[0m\u001b[0;34m\u001b[0m\u001b[0m\n",
      "\u001b[0;32m~/.pyenv/versions/anaconda3-5.0.0/lib/python3.6/site-packages/urllib3/connectionpool.py\u001b[0m in \u001b[0;36m_validate_conn\u001b[0;34m(self, conn)\u001b[0m\n\u001b[1;32m    849\u001b[0m         \u001b[0;32mif\u001b[0m \u001b[0;32mnot\u001b[0m \u001b[0mgetattr\u001b[0m\u001b[0;34m(\u001b[0m\u001b[0mconn\u001b[0m\u001b[0;34m,\u001b[0m \u001b[0;34m'sock'\u001b[0m\u001b[0;34m,\u001b[0m \u001b[0;32mNone\u001b[0m\u001b[0;34m)\u001b[0m\u001b[0;34m:\u001b[0m  \u001b[0;31m# AppEngine might not have  `.sock`\u001b[0m\u001b[0;34m\u001b[0m\u001b[0m\n\u001b[0;32m--> 850\u001b[0;31m             \u001b[0mconn\u001b[0m\u001b[0;34m.\u001b[0m\u001b[0mconnect\u001b[0m\u001b[0;34m(\u001b[0m\u001b[0;34m)\u001b[0m\u001b[0;34m\u001b[0m\u001b[0m\n\u001b[0m\u001b[1;32m    851\u001b[0m \u001b[0;34m\u001b[0m\u001b[0m\n",
      "\u001b[0;32m~/.pyenv/versions/anaconda3-5.0.0/lib/python3.6/site-packages/urllib3/connection.py\u001b[0m in \u001b[0;36mconnect\u001b[0;34m(self)\u001b[0m\n\u001b[1;32m    283\u001b[0m         \u001b[0;31m# Add certificate verification\u001b[0m\u001b[0;34m\u001b[0m\u001b[0;34m\u001b[0m\u001b[0m\n\u001b[0;32m--> 284\u001b[0;31m         \u001b[0mconn\u001b[0m \u001b[0;34m=\u001b[0m \u001b[0mself\u001b[0m\u001b[0;34m.\u001b[0m\u001b[0m_new_conn\u001b[0m\u001b[0;34m(\u001b[0m\u001b[0;34m)\u001b[0m\u001b[0;34m\u001b[0m\u001b[0m\n\u001b[0m\u001b[1;32m    285\u001b[0m \u001b[0;34m\u001b[0m\u001b[0m\n",
      "\u001b[0;32m~/.pyenv/versions/anaconda3-5.0.0/lib/python3.6/site-packages/urllib3/connection.py\u001b[0m in \u001b[0;36m_new_conn\u001b[0;34m(self)\u001b[0m\n\u001b[1;32m    149\u001b[0m             raise NewConnectionError(\n\u001b[0;32m--> 150\u001b[0;31m                 self, \"Failed to establish a new connection: %s\" % e)\n\u001b[0m\u001b[1;32m    151\u001b[0m \u001b[0;34m\u001b[0m\u001b[0m\n",
      "\u001b[0;31mNewConnectionError\u001b[0m: <urllib3.connection.VerifiedHTTPSConnection object at 0x118302be0>: Failed to establish a new connection: [Errno 8] nodename nor servname provided, or not known",
      "\nDuring handling of the above exception, another exception occurred:\n",
      "\u001b[0;31mMaxRetryError\u001b[0m                             Traceback (most recent call last)",
      "\u001b[0;32m~/.pyenv/versions/anaconda3-5.0.0/lib/python3.6/site-packages/requests/adapters.py\u001b[0m in \u001b[0;36msend\u001b[0;34m(self, request, stream, timeout, verify, cert, proxies)\u001b[0m\n\u001b[1;32m    439\u001b[0m                     \u001b[0mretries\u001b[0m\u001b[0;34m=\u001b[0m\u001b[0mself\u001b[0m\u001b[0;34m.\u001b[0m\u001b[0mmax_retries\u001b[0m\u001b[0;34m,\u001b[0m\u001b[0;34m\u001b[0m\u001b[0m\n\u001b[0;32m--> 440\u001b[0;31m                     \u001b[0mtimeout\u001b[0m\u001b[0;34m=\u001b[0m\u001b[0mtimeout\u001b[0m\u001b[0;34m\u001b[0m\u001b[0m\n\u001b[0m\u001b[1;32m    441\u001b[0m                 )\n",
      "\u001b[0;32m~/.pyenv/versions/anaconda3-5.0.0/lib/python3.6/site-packages/urllib3/connectionpool.py\u001b[0m in \u001b[0;36murlopen\u001b[0;34m(self, method, url, body, headers, retries, redirect, assert_same_host, timeout, pool_timeout, release_conn, chunked, body_pos, **response_kw)\u001b[0m\n\u001b[1;32m    638\u001b[0m             retries = retries.increment(method, url, error=e, _pool=self,\n\u001b[0;32m--> 639\u001b[0;31m                                         _stacktrace=sys.exc_info()[2])\n\u001b[0m\u001b[1;32m    640\u001b[0m             \u001b[0mretries\u001b[0m\u001b[0;34m.\u001b[0m\u001b[0msleep\u001b[0m\u001b[0;34m(\u001b[0m\u001b[0;34m)\u001b[0m\u001b[0;34m\u001b[0m\u001b[0m\n",
      "\u001b[0;32m~/.pyenv/versions/anaconda3-5.0.0/lib/python3.6/site-packages/urllib3/util/retry.py\u001b[0m in \u001b[0;36mincrement\u001b[0;34m(self, method, url, response, error, _pool, _stacktrace)\u001b[0m\n\u001b[1;32m    387\u001b[0m         \u001b[0;32mif\u001b[0m \u001b[0mnew_retry\u001b[0m\u001b[0;34m.\u001b[0m\u001b[0mis_exhausted\u001b[0m\u001b[0;34m(\u001b[0m\u001b[0;34m)\u001b[0m\u001b[0;34m:\u001b[0m\u001b[0;34m\u001b[0m\u001b[0m\n\u001b[0;32m--> 388\u001b[0;31m             \u001b[0;32mraise\u001b[0m \u001b[0mMaxRetryError\u001b[0m\u001b[0;34m(\u001b[0m\u001b[0m_pool\u001b[0m\u001b[0;34m,\u001b[0m \u001b[0murl\u001b[0m\u001b[0;34m,\u001b[0m \u001b[0merror\u001b[0m \u001b[0;32mor\u001b[0m \u001b[0mResponseError\u001b[0m\u001b[0;34m(\u001b[0m\u001b[0mcause\u001b[0m\u001b[0;34m)\u001b[0m\u001b[0;34m)\u001b[0m\u001b[0;34m\u001b[0m\u001b[0m\n\u001b[0m\u001b[1;32m    389\u001b[0m \u001b[0;34m\u001b[0m\u001b[0m\n",
      "\u001b[0;31mMaxRetryError\u001b[0m: HTTPSConnectionPool(host='%7bhostname%7d', port=443): Max retries exceeded with url: /api/v3/user/repos (Caused by NewConnectionError('<urllib3.connection.VerifiedHTTPSConnection object at 0x118302be0>: Failed to establish a new connection: [Errno 8] nodename nor servname provided, or not known',))",
      "\nDuring handling of the above exception, another exception occurred:\n",
      "\u001b[0;31mConnectionError\u001b[0m                           Traceback (most recent call last)",
      "\u001b[0;32m<ipython-input-38-921c9be15ccc>\u001b[0m in \u001b[0;36m<module>\u001b[0;34m()\u001b[0m\n\u001b[1;32m     13\u001b[0m \u001b[0;34m\u001b[0m\u001b[0m\n\u001b[1;32m     14\u001b[0m \u001b[0;31m# Then play with your Github objects:\u001b[0m\u001b[0;34m\u001b[0m\u001b[0;34m\u001b[0m\u001b[0m\n\u001b[0;32m---> 15\u001b[0;31m \u001b[0;32mfor\u001b[0m \u001b[0mrepo\u001b[0m \u001b[0;32min\u001b[0m \u001b[0mg\u001b[0m\u001b[0;34m.\u001b[0m\u001b[0mget_user\u001b[0m\u001b[0;34m(\u001b[0m\u001b[0;34m)\u001b[0m\u001b[0;34m.\u001b[0m\u001b[0mget_repos\u001b[0m\u001b[0;34m(\u001b[0m\u001b[0;34m)\u001b[0m\u001b[0;34m:\u001b[0m\u001b[0;34m\u001b[0m\u001b[0m\n\u001b[0m\u001b[1;32m     16\u001b[0m     \u001b[0mprint\u001b[0m\u001b[0;34m(\u001b[0m\u001b[0mrepo\u001b[0m\u001b[0;34m.\u001b[0m\u001b[0mname\u001b[0m\u001b[0;34m)\u001b[0m\u001b[0;34m\u001b[0m\u001b[0m\n",
      "\u001b[0;32m~/.pyenv/versions/anaconda3-5.0.0/lib/python3.6/site-packages/github/PaginatedList.py\u001b[0m in \u001b[0;36m__iter__\u001b[0;34m(self)\u001b[0m\n\u001b[1;32m     56\u001b[0m             \u001b[0;32myield\u001b[0m \u001b[0melement\u001b[0m\u001b[0;34m\u001b[0m\u001b[0m\n\u001b[1;32m     57\u001b[0m         \u001b[0;32mwhile\u001b[0m \u001b[0mself\u001b[0m\u001b[0;34m.\u001b[0m\u001b[0m_couldGrow\u001b[0m\u001b[0;34m(\u001b[0m\u001b[0;34m)\u001b[0m\u001b[0;34m:\u001b[0m\u001b[0;34m\u001b[0m\u001b[0m\n\u001b[0;32m---> 58\u001b[0;31m             \u001b[0mnewElements\u001b[0m \u001b[0;34m=\u001b[0m \u001b[0mself\u001b[0m\u001b[0;34m.\u001b[0m\u001b[0m_grow\u001b[0m\u001b[0;34m(\u001b[0m\u001b[0;34m)\u001b[0m\u001b[0;34m\u001b[0m\u001b[0m\n\u001b[0m\u001b[1;32m     59\u001b[0m             \u001b[0;32mfor\u001b[0m \u001b[0melement\u001b[0m \u001b[0;32min\u001b[0m \u001b[0mnewElements\u001b[0m\u001b[0;34m:\u001b[0m\u001b[0;34m\u001b[0m\u001b[0m\n\u001b[1;32m     60\u001b[0m                 \u001b[0;32myield\u001b[0m \u001b[0melement\u001b[0m\u001b[0;34m\u001b[0m\u001b[0m\n",
      "\u001b[0;32m~/.pyenv/versions/anaconda3-5.0.0/lib/python3.6/site-packages/github/PaginatedList.py\u001b[0m in \u001b[0;36m_grow\u001b[0;34m(self)\u001b[0m\n\u001b[1;32m     68\u001b[0m \u001b[0;34m\u001b[0m\u001b[0m\n\u001b[1;32m     69\u001b[0m     \u001b[0;32mdef\u001b[0m \u001b[0m_grow\u001b[0m\u001b[0;34m(\u001b[0m\u001b[0mself\u001b[0m\u001b[0;34m)\u001b[0m\u001b[0;34m:\u001b[0m\u001b[0;34m\u001b[0m\u001b[0m\n\u001b[0;32m---> 70\u001b[0;31m         \u001b[0mnewElements\u001b[0m \u001b[0;34m=\u001b[0m \u001b[0mself\u001b[0m\u001b[0;34m.\u001b[0m\u001b[0m_fetchNextPage\u001b[0m\u001b[0;34m(\u001b[0m\u001b[0;34m)\u001b[0m\u001b[0;34m\u001b[0m\u001b[0m\n\u001b[0m\u001b[1;32m     71\u001b[0m         \u001b[0mself\u001b[0m\u001b[0;34m.\u001b[0m\u001b[0m__elements\u001b[0m \u001b[0;34m+=\u001b[0m \u001b[0mnewElements\u001b[0m\u001b[0;34m\u001b[0m\u001b[0m\n\u001b[1;32m     72\u001b[0m         \u001b[0;32mreturn\u001b[0m \u001b[0mnewElements\u001b[0m\u001b[0;34m\u001b[0m\u001b[0m\n",
      "\u001b[0;32m~/.pyenv/versions/anaconda3-5.0.0/lib/python3.6/site-packages/github/PaginatedList.py\u001b[0m in \u001b[0;36m_fetchNextPage\u001b[0;34m(self)\u001b[0m\n\u001b[1;32m    170\u001b[0m             \u001b[0mself\u001b[0m\u001b[0;34m.\u001b[0m\u001b[0m__nextUrl\u001b[0m\u001b[0;34m,\u001b[0m\u001b[0;34m\u001b[0m\u001b[0m\n\u001b[1;32m    171\u001b[0m             \u001b[0mparameters\u001b[0m\u001b[0;34m=\u001b[0m\u001b[0mself\u001b[0m\u001b[0;34m.\u001b[0m\u001b[0m__nextParams\u001b[0m\u001b[0;34m,\u001b[0m\u001b[0;34m\u001b[0m\u001b[0m\n\u001b[0;32m--> 172\u001b[0;31m             \u001b[0mheaders\u001b[0m\u001b[0;34m=\u001b[0m\u001b[0mself\u001b[0m\u001b[0;34m.\u001b[0m\u001b[0m__headers\u001b[0m\u001b[0;34m\u001b[0m\u001b[0m\n\u001b[0m\u001b[1;32m    173\u001b[0m         )\n\u001b[1;32m    174\u001b[0m         \u001b[0mdata\u001b[0m \u001b[0;34m=\u001b[0m \u001b[0mdata\u001b[0m \u001b[0;32mif\u001b[0m \u001b[0mdata\u001b[0m \u001b[0;32melse\u001b[0m \u001b[0;34m[\u001b[0m\u001b[0;34m]\u001b[0m\u001b[0;34m\u001b[0m\u001b[0m\n",
      "\u001b[0;32m~/.pyenv/versions/anaconda3-5.0.0/lib/python3.6/site-packages/github/Requester.py\u001b[0m in \u001b[0;36mrequestJsonAndCheck\u001b[0;34m(self, verb, url, parameters, headers, input)\u001b[0m\n\u001b[1;32m    258\u001b[0m \u001b[0;34m\u001b[0m\u001b[0m\n\u001b[1;32m    259\u001b[0m     \u001b[0;32mdef\u001b[0m \u001b[0mrequestJsonAndCheck\u001b[0m\u001b[0;34m(\u001b[0m\u001b[0mself\u001b[0m\u001b[0;34m,\u001b[0m \u001b[0mverb\u001b[0m\u001b[0;34m,\u001b[0m \u001b[0murl\u001b[0m\u001b[0;34m,\u001b[0m \u001b[0mparameters\u001b[0m\u001b[0;34m=\u001b[0m\u001b[0;32mNone\u001b[0m\u001b[0;34m,\u001b[0m \u001b[0mheaders\u001b[0m\u001b[0;34m=\u001b[0m\u001b[0;32mNone\u001b[0m\u001b[0;34m,\u001b[0m \u001b[0minput\u001b[0m\u001b[0;34m=\u001b[0m\u001b[0;32mNone\u001b[0m\u001b[0;34m)\u001b[0m\u001b[0;34m:\u001b[0m\u001b[0;34m\u001b[0m\u001b[0m\n\u001b[0;32m--> 260\u001b[0;31m         \u001b[0;32mreturn\u001b[0m \u001b[0mself\u001b[0m\u001b[0;34m.\u001b[0m\u001b[0m__check\u001b[0m\u001b[0;34m(\u001b[0m\u001b[0;34m*\u001b[0m\u001b[0mself\u001b[0m\u001b[0;34m.\u001b[0m\u001b[0mrequestJson\u001b[0m\u001b[0;34m(\u001b[0m\u001b[0mverb\u001b[0m\u001b[0;34m,\u001b[0m \u001b[0murl\u001b[0m\u001b[0;34m,\u001b[0m \u001b[0mparameters\u001b[0m\u001b[0;34m,\u001b[0m \u001b[0mheaders\u001b[0m\u001b[0;34m,\u001b[0m \u001b[0minput\u001b[0m\u001b[0;34m,\u001b[0m \u001b[0mself\u001b[0m\u001b[0;34m.\u001b[0m\u001b[0m__customConnection\u001b[0m\u001b[0;34m(\u001b[0m\u001b[0murl\u001b[0m\u001b[0;34m)\u001b[0m\u001b[0;34m)\u001b[0m\u001b[0;34m)\u001b[0m\u001b[0;34m\u001b[0m\u001b[0m\n\u001b[0m\u001b[1;32m    261\u001b[0m \u001b[0;34m\u001b[0m\u001b[0m\n\u001b[1;32m    262\u001b[0m     \u001b[0;32mdef\u001b[0m \u001b[0mrequestMultipartAndCheck\u001b[0m\u001b[0;34m(\u001b[0m\u001b[0mself\u001b[0m\u001b[0;34m,\u001b[0m \u001b[0mverb\u001b[0m\u001b[0;34m,\u001b[0m \u001b[0murl\u001b[0m\u001b[0;34m,\u001b[0m \u001b[0mparameters\u001b[0m\u001b[0;34m=\u001b[0m\u001b[0;32mNone\u001b[0m\u001b[0;34m,\u001b[0m \u001b[0mheaders\u001b[0m\u001b[0;34m=\u001b[0m\u001b[0;32mNone\u001b[0m\u001b[0;34m,\u001b[0m \u001b[0minput\u001b[0m\u001b[0;34m=\u001b[0m\u001b[0;32mNone\u001b[0m\u001b[0;34m)\u001b[0m\u001b[0;34m:\u001b[0m\u001b[0;34m\u001b[0m\u001b[0m\n",
      "\u001b[0;32m~/.pyenv/versions/anaconda3-5.0.0/lib/python3.6/site-packages/github/Requester.py\u001b[0m in \u001b[0;36mrequestJson\u001b[0;34m(self, verb, url, parameters, headers, input, cnx)\u001b[0m\n\u001b[1;32m    315\u001b[0m             \u001b[0;32mreturn\u001b[0m \u001b[0;34m\"application/json\"\u001b[0m\u001b[0;34m,\u001b[0m \u001b[0mjson\u001b[0m\u001b[0;34m.\u001b[0m\u001b[0mdumps\u001b[0m\u001b[0;34m(\u001b[0m\u001b[0minput\u001b[0m\u001b[0;34m)\u001b[0m\u001b[0;34m\u001b[0m\u001b[0m\n\u001b[1;32m    316\u001b[0m \u001b[0;34m\u001b[0m\u001b[0m\n\u001b[0;32m--> 317\u001b[0;31m         \u001b[0;32mreturn\u001b[0m \u001b[0mself\u001b[0m\u001b[0;34m.\u001b[0m\u001b[0m__requestEncode\u001b[0m\u001b[0;34m(\u001b[0m\u001b[0mcnx\u001b[0m\u001b[0;34m,\u001b[0m \u001b[0mverb\u001b[0m\u001b[0;34m,\u001b[0m \u001b[0murl\u001b[0m\u001b[0;34m,\u001b[0m \u001b[0mparameters\u001b[0m\u001b[0;34m,\u001b[0m \u001b[0mheaders\u001b[0m\u001b[0;34m,\u001b[0m \u001b[0minput\u001b[0m\u001b[0;34m,\u001b[0m \u001b[0mencode\u001b[0m\u001b[0;34m)\u001b[0m\u001b[0;34m\u001b[0m\u001b[0m\n\u001b[0m\u001b[1;32m    318\u001b[0m \u001b[0;34m\u001b[0m\u001b[0m\n\u001b[1;32m    319\u001b[0m     \u001b[0;32mdef\u001b[0m \u001b[0mrequestMultipart\u001b[0m\u001b[0;34m(\u001b[0m\u001b[0mself\u001b[0m\u001b[0;34m,\u001b[0m \u001b[0mverb\u001b[0m\u001b[0;34m,\u001b[0m \u001b[0murl\u001b[0m\u001b[0;34m,\u001b[0m \u001b[0mparameters\u001b[0m\u001b[0;34m=\u001b[0m\u001b[0;32mNone\u001b[0m\u001b[0;34m,\u001b[0m \u001b[0mheaders\u001b[0m\u001b[0;34m=\u001b[0m\u001b[0;32mNone\u001b[0m\u001b[0;34m,\u001b[0m \u001b[0minput\u001b[0m\u001b[0;34m=\u001b[0m\u001b[0;32mNone\u001b[0m\u001b[0;34m,\u001b[0m \u001b[0mcnx\u001b[0m\u001b[0;34m=\u001b[0m\u001b[0;32mNone\u001b[0m\u001b[0;34m)\u001b[0m\u001b[0;34m:\u001b[0m\u001b[0;34m\u001b[0m\u001b[0m\n",
      "\u001b[0;32m~/.pyenv/versions/anaconda3-5.0.0/lib/python3.6/site-packages/github/Requester.py\u001b[0m in \u001b[0;36m__requestEncode\u001b[0;34m(self, cnx, verb, url, parameters, requestHeaders, input, encode)\u001b[0m\n\u001b[1;32m    368\u001b[0m         \u001b[0mself\u001b[0m\u001b[0;34m.\u001b[0m\u001b[0mNEW_DEBUG_FRAME\u001b[0m\u001b[0;34m(\u001b[0m\u001b[0mrequestHeaders\u001b[0m\u001b[0;34m)\u001b[0m\u001b[0;34m\u001b[0m\u001b[0m\n\u001b[1;32m    369\u001b[0m \u001b[0;34m\u001b[0m\u001b[0m\n\u001b[0;32m--> 370\u001b[0;31m         \u001b[0mstatus\u001b[0m\u001b[0;34m,\u001b[0m \u001b[0mresponseHeaders\u001b[0m\u001b[0;34m,\u001b[0m \u001b[0moutput\u001b[0m \u001b[0;34m=\u001b[0m \u001b[0mself\u001b[0m\u001b[0;34m.\u001b[0m\u001b[0m__requestRaw\u001b[0m\u001b[0;34m(\u001b[0m\u001b[0mcnx\u001b[0m\u001b[0;34m,\u001b[0m \u001b[0mverb\u001b[0m\u001b[0;34m,\u001b[0m \u001b[0murl\u001b[0m\u001b[0;34m,\u001b[0m \u001b[0mrequestHeaders\u001b[0m\u001b[0;34m,\u001b[0m \u001b[0mencoded_input\u001b[0m\u001b[0;34m)\u001b[0m\u001b[0;34m\u001b[0m\u001b[0m\n\u001b[0m\u001b[1;32m    371\u001b[0m \u001b[0;34m\u001b[0m\u001b[0m\n\u001b[1;32m    372\u001b[0m         \u001b[0;32mif\u001b[0m \u001b[0;34m\"x-ratelimit-remaining\"\u001b[0m \u001b[0;32min\u001b[0m \u001b[0mresponseHeaders\u001b[0m \u001b[0;32mand\u001b[0m \u001b[0;34m\"x-ratelimit-limit\"\u001b[0m \u001b[0;32min\u001b[0m \u001b[0mresponseHeaders\u001b[0m\u001b[0;34m:\u001b[0m\u001b[0;34m\u001b[0m\u001b[0m\n",
      "\u001b[0;32m~/.pyenv/versions/anaconda3-5.0.0/lib/python3.6/site-packages/github/Requester.py\u001b[0m in \u001b[0;36m__requestRaw\u001b[0;34m(self, cnx, verb, url, requestHeaders, input)\u001b[0m\n\u001b[1;32m    392\u001b[0m             \u001b[0mrequestHeaders\u001b[0m\u001b[0;34m\u001b[0m\u001b[0m\n\u001b[1;32m    393\u001b[0m         )\n\u001b[0;32m--> 394\u001b[0;31m         \u001b[0mresponse\u001b[0m \u001b[0;34m=\u001b[0m \u001b[0mcnx\u001b[0m\u001b[0;34m.\u001b[0m\u001b[0mgetresponse\u001b[0m\u001b[0;34m(\u001b[0m\u001b[0;34m)\u001b[0m\u001b[0;34m\u001b[0m\u001b[0m\n\u001b[0m\u001b[1;32m    395\u001b[0m \u001b[0;34m\u001b[0m\u001b[0m\n\u001b[1;32m    396\u001b[0m         \u001b[0mstatus\u001b[0m \u001b[0;34m=\u001b[0m \u001b[0mresponse\u001b[0m\u001b[0;34m.\u001b[0m\u001b[0mstatus\u001b[0m\u001b[0;34m\u001b[0m\u001b[0m\n",
      "\u001b[0;32m~/.pyenv/versions/anaconda3-5.0.0/lib/python3.6/site-packages/github/Requester.py\u001b[0m in \u001b[0;36mgetresponse\u001b[0;34m(self)\u001b[0m\n\u001b[1;32m    105\u001b[0m         \u001b[0mverb\u001b[0m \u001b[0;34m=\u001b[0m \u001b[0mgetattr\u001b[0m\u001b[0;34m(\u001b[0m\u001b[0mself\u001b[0m\u001b[0;34m.\u001b[0m\u001b[0msession\u001b[0m\u001b[0;34m,\u001b[0m \u001b[0mself\u001b[0m\u001b[0;34m.\u001b[0m\u001b[0mverb\u001b[0m\u001b[0;34m.\u001b[0m\u001b[0mlower\u001b[0m\u001b[0;34m(\u001b[0m\u001b[0;34m)\u001b[0m\u001b[0;34m)\u001b[0m\u001b[0;34m\u001b[0m\u001b[0m\n\u001b[1;32m    106\u001b[0m         \u001b[0murl\u001b[0m \u001b[0;34m=\u001b[0m \u001b[0;34m\"%s://%s:%s%s\"\u001b[0m \u001b[0;34m%\u001b[0m \u001b[0;34m(\u001b[0m\u001b[0mself\u001b[0m\u001b[0;34m.\u001b[0m\u001b[0mprotocol\u001b[0m\u001b[0;34m,\u001b[0m \u001b[0mself\u001b[0m\u001b[0;34m.\u001b[0m\u001b[0mhost\u001b[0m\u001b[0;34m,\u001b[0m \u001b[0mself\u001b[0m\u001b[0;34m.\u001b[0m\u001b[0mport\u001b[0m\u001b[0;34m,\u001b[0m \u001b[0mself\u001b[0m\u001b[0;34m.\u001b[0m\u001b[0murl\u001b[0m\u001b[0;34m)\u001b[0m\u001b[0;34m\u001b[0m\u001b[0m\n\u001b[0;32m--> 107\u001b[0;31m         \u001b[0mr\u001b[0m \u001b[0;34m=\u001b[0m \u001b[0mverb\u001b[0m\u001b[0;34m(\u001b[0m\u001b[0murl\u001b[0m\u001b[0;34m,\u001b[0m \u001b[0mheaders\u001b[0m\u001b[0;34m=\u001b[0m\u001b[0mself\u001b[0m\u001b[0;34m.\u001b[0m\u001b[0mheaders\u001b[0m\u001b[0;34m,\u001b[0m \u001b[0mdata\u001b[0m\u001b[0;34m=\u001b[0m\u001b[0mself\u001b[0m\u001b[0;34m.\u001b[0m\u001b[0minput\u001b[0m\u001b[0;34m,\u001b[0m \u001b[0mtimeout\u001b[0m\u001b[0;34m=\u001b[0m\u001b[0mself\u001b[0m\u001b[0;34m.\u001b[0m\u001b[0mtimeout\u001b[0m\u001b[0;34m,\u001b[0m \u001b[0mverify\u001b[0m\u001b[0;34m=\u001b[0m\u001b[0mself\u001b[0m\u001b[0;34m.\u001b[0m\u001b[0mverify\u001b[0m\u001b[0;34m)\u001b[0m\u001b[0;34m\u001b[0m\u001b[0m\n\u001b[0m\u001b[1;32m    108\u001b[0m         \u001b[0;32mreturn\u001b[0m \u001b[0mRequestsResponse\u001b[0m\u001b[0;34m(\u001b[0m\u001b[0mr\u001b[0m\u001b[0;34m)\u001b[0m\u001b[0;34m\u001b[0m\u001b[0m\n\u001b[1;32m    109\u001b[0m \u001b[0;34m\u001b[0m\u001b[0m\n",
      "\u001b[0;32m~/.pyenv/versions/anaconda3-5.0.0/lib/python3.6/site-packages/requests/sessions.py\u001b[0m in \u001b[0;36mget\u001b[0;34m(self, url, **kwargs)\u001b[0m\n\u001b[1;32m    519\u001b[0m \u001b[0;34m\u001b[0m\u001b[0m\n\u001b[1;32m    520\u001b[0m         \u001b[0mkwargs\u001b[0m\u001b[0;34m.\u001b[0m\u001b[0msetdefault\u001b[0m\u001b[0;34m(\u001b[0m\u001b[0;34m'allow_redirects'\u001b[0m\u001b[0;34m,\u001b[0m \u001b[0;32mTrue\u001b[0m\u001b[0;34m)\u001b[0m\u001b[0;34m\u001b[0m\u001b[0m\n\u001b[0;32m--> 521\u001b[0;31m         \u001b[0;32mreturn\u001b[0m \u001b[0mself\u001b[0m\u001b[0;34m.\u001b[0m\u001b[0mrequest\u001b[0m\u001b[0;34m(\u001b[0m\u001b[0;34m'GET'\u001b[0m\u001b[0;34m,\u001b[0m \u001b[0murl\u001b[0m\u001b[0;34m,\u001b[0m \u001b[0;34m**\u001b[0m\u001b[0mkwargs\u001b[0m\u001b[0;34m)\u001b[0m\u001b[0;34m\u001b[0m\u001b[0m\n\u001b[0m\u001b[1;32m    522\u001b[0m \u001b[0;34m\u001b[0m\u001b[0m\n\u001b[1;32m    523\u001b[0m     \u001b[0;32mdef\u001b[0m \u001b[0moptions\u001b[0m\u001b[0;34m(\u001b[0m\u001b[0mself\u001b[0m\u001b[0;34m,\u001b[0m \u001b[0murl\u001b[0m\u001b[0;34m,\u001b[0m \u001b[0;34m**\u001b[0m\u001b[0mkwargs\u001b[0m\u001b[0;34m)\u001b[0m\u001b[0;34m:\u001b[0m\u001b[0;34m\u001b[0m\u001b[0m\n",
      "\u001b[0;32m~/.pyenv/versions/anaconda3-5.0.0/lib/python3.6/site-packages/requests/sessions.py\u001b[0m in \u001b[0;36mrequest\u001b[0;34m(self, method, url, params, data, headers, cookies, files, auth, timeout, allow_redirects, proxies, hooks, stream, verify, cert, json)\u001b[0m\n\u001b[1;32m    506\u001b[0m         }\n\u001b[1;32m    507\u001b[0m         \u001b[0msend_kwargs\u001b[0m\u001b[0;34m.\u001b[0m\u001b[0mupdate\u001b[0m\u001b[0;34m(\u001b[0m\u001b[0msettings\u001b[0m\u001b[0;34m)\u001b[0m\u001b[0;34m\u001b[0m\u001b[0m\n\u001b[0;32m--> 508\u001b[0;31m         \u001b[0mresp\u001b[0m \u001b[0;34m=\u001b[0m \u001b[0mself\u001b[0m\u001b[0;34m.\u001b[0m\u001b[0msend\u001b[0m\u001b[0;34m(\u001b[0m\u001b[0mprep\u001b[0m\u001b[0;34m,\u001b[0m \u001b[0;34m**\u001b[0m\u001b[0msend_kwargs\u001b[0m\u001b[0;34m)\u001b[0m\u001b[0;34m\u001b[0m\u001b[0m\n\u001b[0m\u001b[1;32m    509\u001b[0m \u001b[0;34m\u001b[0m\u001b[0m\n\u001b[1;32m    510\u001b[0m         \u001b[0;32mreturn\u001b[0m \u001b[0mresp\u001b[0m\u001b[0;34m\u001b[0m\u001b[0m\n",
      "\u001b[0;32m~/.pyenv/versions/anaconda3-5.0.0/lib/python3.6/site-packages/requests/sessions.py\u001b[0m in \u001b[0;36msend\u001b[0;34m(self, request, **kwargs)\u001b[0m\n\u001b[1;32m    616\u001b[0m \u001b[0;34m\u001b[0m\u001b[0m\n\u001b[1;32m    617\u001b[0m         \u001b[0;31m# Send the request\u001b[0m\u001b[0;34m\u001b[0m\u001b[0;34m\u001b[0m\u001b[0m\n\u001b[0;32m--> 618\u001b[0;31m         \u001b[0mr\u001b[0m \u001b[0;34m=\u001b[0m \u001b[0madapter\u001b[0m\u001b[0;34m.\u001b[0m\u001b[0msend\u001b[0m\u001b[0;34m(\u001b[0m\u001b[0mrequest\u001b[0m\u001b[0;34m,\u001b[0m \u001b[0;34m**\u001b[0m\u001b[0mkwargs\u001b[0m\u001b[0;34m)\u001b[0m\u001b[0;34m\u001b[0m\u001b[0m\n\u001b[0m\u001b[1;32m    619\u001b[0m \u001b[0;34m\u001b[0m\u001b[0m\n\u001b[1;32m    620\u001b[0m         \u001b[0;31m# Total elapsed time of the request (approximately)\u001b[0m\u001b[0;34m\u001b[0m\u001b[0;34m\u001b[0m\u001b[0m\n",
      "\u001b[0;32m~/.pyenv/versions/anaconda3-5.0.0/lib/python3.6/site-packages/requests/adapters.py\u001b[0m in \u001b[0;36msend\u001b[0;34m(self, request, stream, timeout, verify, cert, proxies)\u001b[0m\n\u001b[1;32m    506\u001b[0m                 \u001b[0;32mraise\u001b[0m \u001b[0mSSLError\u001b[0m\u001b[0;34m(\u001b[0m\u001b[0me\u001b[0m\u001b[0;34m,\u001b[0m \u001b[0mrequest\u001b[0m\u001b[0;34m=\u001b[0m\u001b[0mrequest\u001b[0m\u001b[0;34m)\u001b[0m\u001b[0;34m\u001b[0m\u001b[0m\n\u001b[1;32m    507\u001b[0m \u001b[0;34m\u001b[0m\u001b[0m\n\u001b[0;32m--> 508\u001b[0;31m             \u001b[0;32mraise\u001b[0m \u001b[0mConnectionError\u001b[0m\u001b[0;34m(\u001b[0m\u001b[0me\u001b[0m\u001b[0;34m,\u001b[0m \u001b[0mrequest\u001b[0m\u001b[0;34m=\u001b[0m\u001b[0mrequest\u001b[0m\u001b[0;34m)\u001b[0m\u001b[0;34m\u001b[0m\u001b[0m\n\u001b[0m\u001b[1;32m    509\u001b[0m \u001b[0;34m\u001b[0m\u001b[0m\n\u001b[1;32m    510\u001b[0m         \u001b[0;32mexcept\u001b[0m \u001b[0mClosedPoolError\u001b[0m \u001b[0;32mas\u001b[0m \u001b[0me\u001b[0m\u001b[0;34m:\u001b[0m\u001b[0;34m\u001b[0m\u001b[0m\n",
      "\u001b[0;31mConnectionError\u001b[0m: HTTPSConnectionPool(host='%7bhostname%7d', port=443): Max retries exceeded with url: /api/v3/user/repos (Caused by NewConnectionError('<urllib3.connection.VerifiedHTTPSConnection object at 0x118302be0>: Failed to establish a new connection: [Errno 8] nodename nor servname provided, or not known',))"
     ]
    }
   ],
   "source": [
    "from github import Github\n",
    "\n",
    "# First create a Github instance:\n",
    "\n",
    "# using username and password\n",
    "g = Github(\"user\", \"password\")\n",
    "\n",
    "# or using an access token\n",
    "g = Github(\"access_token\")\n",
    "\n",
    "# Github Enterprise with custom hostname\n",
    "g = Github(base_url=\"https://{hostname}/api/v3\", login_or_token=\"access_token\")\n",
    "\n",
    "# Then play with your Github objects:\n",
    "for repo in g.get_user().get_repos():\n",
    "    print(repo.name)"
   ]
  },
  {
   "cell_type": "markdown",
   "metadata": {},
   "source": [
    "### ....すいません。やり方が変わってる上に個人情報の記載になるのでここで割愛します"
   ]
  },
  {
   "cell_type": "markdown",
   "metadata": {},
   "source": [
    "## 出力方法について\n",
    "to_XXXを使います。  \n",
    "用途によって使い分けると良いでしょう。"
   ]
  },
  {
   "cell_type": "markdown",
   "metadata": {},
   "source": [
    "### 先ほど読み込んだ２００万件以上のデータを出力します。"
   ]
  },
  {
   "cell_type": "markdown",
   "metadata": {},
   "source": [
    "### 候補はto_csv と to_pickle"
   ]
  },
  {
   "cell_type": "code",
   "execution_count": 51,
   "metadata": {},
   "outputs": [
    {
     "name": "stdout",
     "output_type": "stream",
     "text": [
      "CPU times: user 12.7 s, sys: 97.6 ms, total: 12.8 s\n",
      "Wall time: 12.9 s\n"
     ]
    }
   ],
   "source": [
    "%time df1.to_csv('aaa.csv')"
   ]
  },
  {
   "cell_type": "markdown",
   "metadata": {},
   "source": [
    "同様の候補としてはto_json あり出y￥データ形式の違いでけです。"
   ]
  },
  {
   "cell_type": "markdown",
   "metadata": {},
   "source": [
    "### またpythonで扱う場合はpickle形式が便利(読み込みもread_pickleです)"
   ]
  },
  {
   "cell_type": "code",
   "execution_count": 70,
   "metadata": {},
   "outputs": [
    {
     "name": "stdout",
     "output_type": "stream",
     "text": [
      "CPU times: user 366 ms, sys: 138 ms, total: 504 ms\n",
      "Wall time: 543 ms\n"
     ]
    }
   ],
   "source": [
    "%time df1.to_pickle('aaa')"
   ]
  },
  {
   "cell_type": "markdown",
   "metadata": {},
   "source": [
    "pythonで処理しやすい状態（人間には読めません）で保存します。"
   ]
  },
  {
   "cell_type": "code",
   "execution_count": 81,
   "metadata": {},
   "outputs": [],
   "source": [
    "### エクセルで出力したい場合"
   ]
  },
  {
   "cell_type": "code",
   "execution_count": 80,
   "metadata": {},
   "outputs": [
    {
     "name": "stdout",
     "output_type": "stream",
     "text": [
      "CPU times: user 467 ms, sys: 9.85 ms, total: 476 ms\n",
      "Wall time: 532 ms\n"
     ]
    }
   ],
   "source": [
    "%time df2.to_excel('aaa.xls',sheet_name='new_sheet_name')"
   ]
  },
  {
   "cell_type": "code",
   "execution_count": null,
   "metadata": {},
   "outputs": [],
   "source": [
    "df2.to_"
   ]
  }
 ],
 "metadata": {
  "kernelspec": {
   "display_name": "Python 3",
   "language": "python",
   "name": "python3"
  },
  "language_info": {
   "codemirror_mode": {
    "name": "ipython",
    "version": 3
   },
   "file_extension": ".py",
   "mimetype": "text/x-python",
   "name": "python",
   "nbconvert_exporter": "python",
   "pygments_lexer": "ipython3",
   "version": "3.6.2"
  }
 },
 "nbformat": 4,
 "nbformat_minor": 2
}
