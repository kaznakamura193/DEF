{
 "cells": [
  {
   "cell_type": "code",
   "execution_count": 1,
   "metadata": {},
   "outputs": [],
   "source": [
    "import pandas as pd\n",
    "import numpy as np\n",
    "import matplotlib\n",
    "import datetime\n",
    "import time\n",
    "\n",
    "matplotlib.use(\"Agg\")\n",
    "import matplotlib.pyplot as plt\n",
    "\n",
    "\n",
    "def scraping(stock, days):\n",
    "\n",
    "\tend = datetime.date.today()\n",
    "\tstart = end - datetime.timedelta(days=days)\n",
    "\n",
    "\tbase = \"http://info.finance.yahoo.co.jp/history/?code={0}.T&{1}&{2}&tm={3}&p={4}\"\n",
    "\n",
    "\tstart_g = str(start)\n",
    "\tstart_g = start_g.split(\"-\")\n",
    "\tstart_g = \"sy={0}&sm={1}&sd={2}\".format(start_g[0], start_g[1], start_g[2])\n",
    "\tend = str(end)\n",
    "\tend = end.split(\"-\")\n",
    "\tend = \"ey={0}&em={1}&ed={2}\".format(end[0], end[1], end[2])\n",
    "\tpage = 1\n",
    "\tterm = \"d\"\n",
    "\t#term = \"m\"\n",
    "\n",
    "\tresult = []\n",
    "\twhile True:\n",
    "\t\turl = base.format(stock, start_g, end, term, page)\n",
    "\t\t# print(url)\n",
    "\t\ttry:\n",
    "\t\t\tdf = pd.read_html(url, header=0)\n",
    "\t\texcept ValueError:\n",
    "\t\t\tbreak\n",
    "\n",
    "\t\tif len(df[1]) == 0:\n",
    "\t\t\tbreak\n",
    "\n",
    "\t\tresult.append(df[1])\n",
    "\t\tpage += 1\n",
    "\t\ttime.sleep(1.0)\n",
    "\n",
    "\n",
    "\ttry:\n",
    "\t\tresult = pd.concat(result)\n",
    "\t\tresult.columns = [\"Date\", \"Open\", \"High\", \"Low\", \"Close\", \"Volume\", \"Adj Close\"]\n",
    "\t\t\n",
    "\t\tyahoo_df = pd.DataFrame(result)\n",
    "\t\tyahoo_df.to_csv(\"./data/code_\" + str(stock) + \".csv\", encoding=\"utf-8\")\n",
    "\n",
    "\texcept ValueError:\n",
    "\t\tpass\n"
   ]
  },
  {
   "cell_type": "code",
   "execution_count": 2,
   "metadata": {},
   "outputs": [],
   "source": [
    "stock_list = [7148, 9024,6504]\n",
    "days = 180\n",
    "for s in stock_list:\n",
    "\tscraping(s, days)"
   ]
  },
  {
   "cell_type": "code",
   "execution_count": 3,
   "metadata": {},
   "outputs": [
    {
     "name": "stdout",
     "output_type": "stream",
     "text": [
      "    Unnamed: 0        Date  Open  High   Low  Close   Volume  Adj Close\n",
      "25           5   2018年8月8日  1129  1154  1119   1145   651400       1145\n",
      "24           4   2018年8月9日  1150  1153  1132   1132   514100       1132\n",
      "2            2  2018年9月10日  1138  1144  1132   1134   410500       1134\n",
      "1            1  2018年9月11日  1124  1124  1094   1114  1271400       1114\n",
      "0            0  2018年9月12日  1110  1115  1074   1079  1050800       1079\n",
      "7            7   2018年9月3日  1218  1219  1171   1173   943800       1173\n",
      "6            6   2018年9月4日  1187  1191  1167   1174   601900       1174\n",
      "5            5   2018年9月5日  1174  1179  1162   1164   451900       1164\n",
      "4            4   2018年9月6日  1155  1156  1143   1147   578800       1147\n",
      "3            3   2018年9月7日  1145  1145  1121   1141   670000       1141\n",
      "    Unnamed: 0        Date  Open  High   Low  Close   Volume  Adj Close\n",
      "25           5   2018年8月8日  2052  2065  2035   2041  1337600       2041\n",
      "24           4   2018年8月9日  2020  2025  1995   2019   960500       2019\n",
      "2            2  2018年9月10日  1990  2021  1989   2002   624200       2002\n",
      "1            1  2018年9月11日  2002  2017  1987   1995   776800       1995\n",
      "0            0  2018年9月12日  1997  2020  1990   2017   536000       2017\n",
      "7            7   2018年9月3日  2005  2017  1988   2006   752200       2006\n",
      "6            6   2018年9月4日  2005  2023  1993   2018   620200       2018\n",
      "5            5   2018年9月5日  2001  2014  1996   2002   764800       2002\n",
      "4            4   2018年9月6日  1993  2001  1965   1969  1262600       1969\n",
      "3            3   2018年9月7日  1965  2006  1956   1999   946700       1999\n",
      "    Unnamed: 0        Date  Open  High  Low  Close   Volume  Adj Close\n",
      "25           5   2018年8月8日   856   874  855    861  4790000        861\n",
      "24           4   2018年8月9日   863   868  858    863  2292000        863\n",
      "2            2  2018年9月10日   865   868  855    861  4440000        861\n",
      "1            1  2018年9月11日   868   868  855    862  4133000        862\n",
      "0            0  2018年9月12日   860   864  851    860  3810000        860\n",
      "7            7   2018年9月3日   905   907  885    885  3074000        885\n",
      "6            6   2018年9月4日   886   888  876    879  2273000        879\n",
      "5            5   2018年9月5日   879   882  872    879  2626000        879\n",
      "4            4   2018年9月6日   875   890  864    882  3991000        882\n",
      "3            3   2018年9月7日   875   882  868    877  2652000        877\n"
     ]
    }
   ],
   "source": [
    "master_df = pd.DataFrame({})\n",
    "for s in stock_list:\n",
    "\tdf = pd.read_csv(\"./data/code_{0}.csv\".format(s))\n",
    "\tdf = df.sort_values(\"Date\", ascending=True)\n",
    "\tprint(df.tail(10))\n",
    "\n",
    "\ttmp_df = df.loc[:, [\"Date\", \"Adj Close\"]]\n",
    "\ttmp_df.columns = [\"Date_{0}\".format(s), \"Close_{0}\".format(s)]\n",
    "\n",
    "\tmaster_df = pd.concat([master_df, tmp_df[\"Close_{0}\".format(s)]], axis=1)"
   ]
  },
  {
   "cell_type": "code",
   "execution_count": 9,
   "metadata": {},
   "outputs": [
    {
     "name": "stdout",
     "output_type": "stream",
     "text": [
      "    Close_7148  Close_9024  Close_6504\n",
      "25        1145        2041         861\n",
      "24        1132        2019         863\n",
      "2         1134        2002         861\n",
      "1         1114        1995         862\n",
      "0         1079        2017         860\n",
      "7         1173        2006         885\n",
      "6         1174        2018         879\n",
      "5         1164        2002         879\n",
      "4         1147        1969         882\n",
      "3         1141        1999         877\n",
      "    Close_7148  Close_9024  Close_6504\n",
      "25    0.013274    0.000490    0.014134\n",
      "24   -0.011354   -0.010779    0.002323\n",
      "2     0.001767   -0.008420   -0.002317\n",
      "1    -0.017637   -0.003497    0.001161\n",
      "0    -0.031418    0.011028   -0.002320\n",
      "7     0.087118   -0.005454    0.029070\n",
      "6     0.000853    0.005982   -0.006780\n",
      "5    -0.008518   -0.007929    0.000000\n",
      "4    -0.014605   -0.016484    0.003413\n",
      "3    -0.005231    0.015236   -0.005669\n",
      "returns_annual\n",
      "Close_7148   -0.210908\n",
      "Close_9024    0.239851\n",
      "Close_6504    0.382434\n",
      "dtype: float64\n",
      "cov_annual\n",
      "            Close_7148  Close_9024  Close_6504\n",
      "Close_7148    0.187598   -0.002020    0.055715\n",
      "Close_9024   -0.002020    0.129092    0.036045\n",
      "Close_6504    0.055715    0.036045    0.169542\n"
     ]
    }
   ],
   "source": [
    "# Calculate annual average return # 年率を計算する前に日率を計算\n",
    "# .pct_change：Rate of change # リターンを計算する便利な関数\n",
    "print(master_df.tail(10))\n",
    "returns_daily = master_df.pct_change()\n",
    "print(returns_daily.tail(10))\n",
    "\n",
    "# Convert to annual rate. working day is 250/365. # 年率に変換. 250は年間の市場が動いている日数.\n",
    "returns_annual = returns_daily.mean() * 250\n",
    "print(\"returns_annual\")\n",
    "print(returns_annual)\n",
    "\n",
    "# Calculate covariance # 各々のリターンから共分散を計算\n",
    "cov_daily = returns_daily.cov()\n",
    "cov_annual = cov_daily * 250\n",
    "print(\"cov_annual\")\n",
    "print(cov_annual)"
   ]
  },
  {
   "cell_type": "code",
   "execution_count": 5,
   "metadata": {},
   "outputs": [
    {
     "name": "stdout",
     "output_type": "stream",
     "text": [
      "    Returns  Volatility  Sharpe Ratio  7148 Weight  9024 Weight  6504 Weight\n",
      "0  0.034828    0.274581      0.126840     0.462913     0.511562     0.025525\n",
      "1  0.264447    0.290182      0.911316     0.101450     0.405323     0.493227\n",
      "2  0.221388    0.274845      0.805503     0.159702     0.464909     0.375389\n",
      "3  0.207553    0.271420      0.764692     0.173255     0.505544     0.321201\n",
      "4  0.268652    0.291545      0.921477     0.094100     0.406421     0.499480\n",
      "5  0.219535    0.329833      0.665594     0.252706     0.090881     0.656414\n",
      "6  0.103275    0.300268      0.343943     0.431219     0.163403     0.405378\n",
      "7 -0.063712    0.354074     -0.179940     0.735376     0.068848     0.195775\n",
      "8  0.233952    0.280290      0.834680     0.109855     0.584222     0.305923\n",
      "9  0.140895    0.266365      0.528954     0.311920     0.396007     0.292073\n"
     ]
    }
   ],
   "source": [
    "# Define list of returns, volatilities, ratiosm, sharpe ratio # 諸々のリスト定義\n",
    "port_returns = []\n",
    "port_volatility = []\n",
    "stock_weights = []\n",
    "sharpe_ratio = []\n",
    "\n",
    "# Choose a prime number. # seedは素数を選ぼう\n",
    "np.random.seed(101)\n",
    "\n",
    "# Number of stocks to be combined # 組み入れる株の数\n",
    "num_assets = len(stock_list)\n",
    "\n",
    "# Number of trials of portfolio creation pattern # ポートフォリオ作成パターンの試行回数\n",
    "num_portfolios = 50000\n",
    "\n",
    "# Randomly calculate portfolio risks and returns # 様々な銘柄の比率でのポートフォリオのリターンとリスクを計算\n",
    "for single_portfolio in range(num_portfolios):\n",
    "\n",
    "\t# Determination of the ratio of stocks by random number # 銘柄の比率を乱数で決定\n",
    "\tweights = np.random.random(num_assets)\n",
    "\tweights /= np.sum(weights)\n",
    "\n",
    "\t# Calculate expected return on portfolio # ポートフォリオの期待リターンを計算\n",
    "\treturns = np.dot(weights, returns_annual)\n",
    "\t# print(\"returns : \", returns)\n",
    "\n",
    "\t# Calculate portfolio volatility # ポートフォリオのボラティリティを計算\n",
    "\tvolatility = np.sqrt(np.dot(weights.T, np.dot(cov_annual, weights)))\n",
    "\t# print(\"volatility : \", volatility)\n",
    "\n",
    "\t# Calculate sharp ratio\n",
    "\tsharpe = returns / volatility\n",
    "\tsharpe_ratio.append(sharpe)\n",
    "\n",
    "\t# Store calculated values in list # 計算値をリストに格納\n",
    "\tport_returns.append(returns)\n",
    "\tport_volatility.append(volatility)\n",
    "\tstock_weights.append(weights)\n",
    "\n",
    "# a dictionary for Returns and Risk values of each portfolio # 辞書型に格納\n",
    "portfolio = {\"Returns\": port_returns,\n",
    "\t\t\t\"Volatility\": port_volatility,\n",
    "\t\t\t\"Sharpe Ratio\" : sharpe_ratio}\n",
    "\n",
    "# Add ratio data # 計算したポートフォリオのリターンとリスクに、比率のデータを加える\n",
    "for counter,symbol in enumerate(stock_list):\n",
    "    portfolio[str(symbol) + \" Weight\"] = [Weight[counter] for Weight in stock_weights]\n",
    "\n",
    "# Convert to DataFrame # PandasのDataFrameに変換\n",
    "df = pd.DataFrame(portfolio)\n",
    "\n",
    "# Done # データフレーム完成\n",
    "column_order = [\"Returns\", \"Volatility\", \"Sharpe Ratio\"] + [str(stock)+\" Weight\" for stock in stock_list]\n",
    "df = df[column_order]\n",
    "\n",
    "print(df.head(10))"
   ]
  },
  {
   "cell_type": "code",
   "execution_count": 6,
   "metadata": {},
   "outputs": [],
   "source": [
    "# look an efficient frontier # 50000パターンのポートフォリオを可視化して、効率的フロンティアを探る\n",
    "plt.style.use(\"seaborn\")\n",
    "df.plot.scatter(x=\"Volatility\", y=\"Returns\", c=\"Sharpe Ratio\", cmap=\"RdYlGn\", edgecolors=\"black\", figsize=(10, 8), grid=True)\n",
    "plt.xlim([0,1])\n",
    "plt.xlabel(\"Volatility (Std. Deviation)\")\n",
    "plt.ylabel(\"Expected Returns\")\n",
    "plt.title(\"Efficient Frontier\")\n",
    "plt.savefig(\"image3.png\")\n"
   ]
  },
  {
   "cell_type": "code",
   "execution_count": 7,
   "metadata": {},
   "outputs": [],
   "source": [
    "# Calculate sharp ratio\n",
    "sharpe = returns / volatility\n",
    "sharpe_ratio.append(sharpe)"
   ]
  },
  {
   "cell_type": "code",
   "execution_count": 8,
   "metadata": {},
   "outputs": [
    {
     "name": "stdout",
     "output_type": "stream",
     "text": [
      "       Returns  Volatility  Sharpe Ratio  7148 Weight  9024 Weight  \\\n",
      "19368  0.32537    0.314609      1.034203     0.000033     0.400082   \n",
      "\n",
      "       6504 Weight  \n",
      "19368     0.599885  \n"
     ]
    }
   ],
   "source": [
    "df = df.sort_values(\"Sharpe Ratio\", ascending=True)\n",
    "print(df.tail(1))"
   ]
  },
  {
   "cell_type": "code",
   "execution_count": null,
   "metadata": {},
   "outputs": [],
   "source": []
  }
 ],
 "metadata": {
  "kernelspec": {
   "display_name": "Python 3",
   "language": "python",
   "name": "python3"
  },
  "language_info": {
   "codemirror_mode": {
    "name": "ipython",
    "version": 3
   },
   "file_extension": ".py",
   "mimetype": "text/x-python",
   "name": "python",
   "nbconvert_exporter": "python",
   "pygments_lexer": "ipython3",
   "version": "3.6.5"
  }
 },
 "nbformat": 4,
 "nbformat_minor": 2
}
