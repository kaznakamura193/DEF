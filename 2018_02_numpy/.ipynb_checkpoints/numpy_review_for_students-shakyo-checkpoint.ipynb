{
 "cells": [
  {
   "cell_type": "markdown",
   "metadata": {},
   "source": [
    "# 機械学習のための Numpy 復習・予習ノート\n",
    "\n",
    "茶帯編以降では、機械学習のアルゴリズムを学んでいきます。  \n",
    "理解を深めるため、一部のアルゴリズムについては、実際に numpy を使って実装をおこなう課題も含まれます。  \n",
    "このアルゴリズム実装を乗り越えられるよう、 numpy の基礎を復習しておきましょう。  \n",
    "\n",
    "この Notebook は、前半は復習のための問題、後半は応用トピックを取り上げます。  \n",
    "前半の復習問題は簡単すぎる！という方は、Notebook 末尾で触れている numpy 100 本ノックの問題に取り組んでみてください。  \n",
    "講座で取り扱っていない関数も多数出てきますが、こんなこともできるのか、という発見があるはずです。"
   ]
  },
  {
   "cell_type": "code",
   "execution_count": 2,
   "metadata": {
    "collapsed": true
   },
   "outputs": [],
   "source": [
    "import numpy as np\n",
    "import matplotlib.pyplot as plt\n",
    "import seaborn as sns\n",
    "%matplotlib inline"
   ]
  },
  {
   "cell_type": "markdown",
   "metadata": {},
   "source": [
    "## 復習１：配列からの値抽出＋α\n",
    "\n",
    "慣れないうちは、配列からの値の抽出、特にインデックスを指定する方法は、混乱を招くものとなってしまうかもしれません。  \n",
    "数をこなし、思い出しておきましょう。以下の意味を思い起こしておきつつ、問題に取り組んでみてください。\n",
    "- `arr[1]`\n",
    "- `arr[[1,3,5]]`\n",
    "- `arr[:5]`\n",
    "- `arr[::2]`\n",
    "- `arr[1:2,3:4]`（2次元配列の場合）\n",
    "- `arr[arr < 5]`\n",
    "- `arr[np.where(arr % 8 == 0)]`"
   ]
  },
  {
   "cell_type": "code",
   "execution_count": 5,
   "metadata": {},
   "outputs": [
    {
     "data": {
      "text/plain": [
       "array([ 0,  8, 16, 24, 32, 40, 48, 56])"
      ]
     },
     "execution_count": 5,
     "metadata": {},
     "output_type": "execute_result"
    }
   ],
   "source": [
    "arr = np.arange(64).reshape((8, 8))\n",
    "arr[np.where(arr % 8 == 0)]"
   ]
  },
  {
   "cell_type": "code",
   "execution_count": 13,
   "metadata": {},
   "outputs": [
    {
     "data": {
      "text/plain": [
       "array([[ 0,  1,  2,  3,  4,  5,  6,  7],\n",
       "       [ 8,  9, 10, 11, 12, 13, 14, 15],\n",
       "       [16, 17, 18, 19, 20, 21, 22, 23],\n",
       "       [24, 25, 26, 27, 28, 29, 30, 31],\n",
       "       [32, 33, 34, 35, 36, 37, 38, 39],\n",
       "       [40, 41, 42, 43, 44, 45, 46, 47],\n",
       "       [48, 49, 50, 51, 52, 53, 54, 55],\n",
       "       [56, 57, 58, 59, 60, 61, 62, 63]])"
      ]
     },
     "execution_count": 13,
     "metadata": {},
     "output_type": "execute_result"
    }
   ],
   "source": [
    "arr"
   ]
  },
  {
   "cell_type": "markdown",
   "metadata": {},
   "source": [
    "1. `arr` の3行目の値（`16, 17, ...`）を全て抽出してください。\n",
    "2. `arr` から偶数の値を抽出してください。\n",
    "3. `arr` の左上から右下の対角線上にある値を抽出してください。\n",
    "4. `arr` の偶数番目のカラム（1行目なら 1, 3, ...）の値を全て抽出してください。\n",
    "5. `arr` から、`10, 11, 12, 18, 19, 20, 34, 35, 36` の値を抽出してください。\n",
    "6. `arr` から奇数の値を抽出し、その合計値を算出してください。\n",
    "7. `arr` の各行ごとに、行の値の合計値を算出してください。"
   ]
  },
  {
   "cell_type": "code",
   "execution_count": 29,
   "metadata": {},
   "outputs": [
    {
     "data": {
      "text/plain": [
       "92"
      ]
     },
     "execution_count": 29,
     "metadata": {},
     "output_type": "execute_result"
    }
   ],
   "source": [
    "a = [ 8,  9, 10, 11, 12, 13, 14, 15]\n",
    "a2 = np.array(a)\n",
    "a2.sum(axis=0)"
   ]
  },
  {
   "cell_type": "code",
   "execution_count": 7,
   "metadata": {},
   "outputs": [
    {
     "data": {
      "text/plain": [
       "array([ 28,  92, 156, 220, 284, 348, 412, 476])"
      ]
     },
     "execution_count": 7,
     "metadata": {},
     "output_type": "execute_result"
    }
   ],
   "source": [
    "#7\n",
    "arr.sum(axis=1)"
   ]
  },
  {
   "cell_type": "code",
   "execution_count": 8,
   "metadata": {},
   "outputs": [
    {
     "data": {
      "text/plain": [
       "1024"
      ]
     },
     "execution_count": 8,
     "metadata": {},
     "output_type": "execute_result"
    }
   ],
   "source": [
    "#6\n",
    "arr[[arr % 2 == 1]].sum()"
   ]
  },
  {
   "cell_type": "code",
   "execution_count": 9,
   "metadata": {},
   "outputs": [
    {
     "data": {
      "text/plain": [
       "array([[10, 11, 12],\n",
       "       [18, 19, 20],\n",
       "       [34, 35, 36]])"
      ]
     },
     "execution_count": 9,
     "metadata": {},
     "output_type": "execute_result"
    }
   ],
   "source": [
    "#5\n",
    "arr[[1,2,4],2:5]"
   ]
  },
  {
   "cell_type": "code",
   "execution_count": 10,
   "metadata": {},
   "outputs": [
    {
     "data": {
      "text/plain": [
       "array([24, 25, 26, 27, 28, 29, 30, 31])"
      ]
     },
     "execution_count": 10,
     "metadata": {},
     "output_type": "execute_result"
    }
   ],
   "source": [
    "arr[3]"
   ]
  },
  {
   "cell_type": "code",
   "execution_count": 11,
   "metadata": {},
   "outputs": [
    {
     "data": {
      "text/plain": [
       "array([ 0,  2,  4,  6,  8, 10, 12, 14, 16, 18, 20, 22, 24, 26, 28, 30, 32,\n",
       "       34, 36, 38, 40, 42, 44, 46, 48, 50, 52, 54, 56, 58, 60, 62])"
      ]
     },
     "execution_count": 11,
     "metadata": {},
     "output_type": "execute_result"
    }
   ],
   "source": [
    "arr[arr % 2 ==0]"
   ]
  },
  {
   "cell_type": "code",
   "execution_count": 12,
   "metadata": {},
   "outputs": [
    {
     "data": {
      "text/plain": [
       "[0, 9, 18, 27, 36, 45, 54, 63]"
      ]
     },
     "execution_count": 12,
     "metadata": {},
     "output_type": "execute_result"
    }
   ],
   "source": [
    "[arr[i][i] for i in range(8)]"
   ]
  },
  {
   "cell_type": "code",
   "execution_count": 10,
   "metadata": {},
   "outputs": [
    {
     "data": {
      "text/plain": [
       "array([[ 1,  3,  5,  7],\n",
       "       [ 9, 11, 13, 15],\n",
       "       [17, 19, 21, 23],\n",
       "       [25, 27, 29, 31],\n",
       "       [33, 35, 37, 39],\n",
       "       [41, 43, 45, 47],\n",
       "       [49, 51, 53, 55],\n",
       "       [57, 59, 61, 63]])"
      ]
     },
     "execution_count": 10,
     "metadata": {},
     "output_type": "execute_result"
    }
   ],
   "source": [
    "arr[:,1::2]"
   ]
  },
  {
   "cell_type": "markdown",
   "metadata": {},
   "source": [
    "## 復習２：四則演算、行列積\n",
    "\n",
    "四則演算、行列積は、最も基本的かつ重要な処理です。直感的に使いこなせるようになっておく必要がありますので、算数の例題を使い、復習することにします。\n",
    "\n",
    "以下では、おつかいで商品を買いに行くという想定のもと、購入する商品の価格表を示します。  \n",
    "普通の商品とちょっといい商品が、交互に定義されています。\n",
    "\n",
    "\n",
    "| 品目 | 税抜価格（円） |\n",
    "|-----| -----|\n",
    "| ほうれん草 | 158 |\n",
    "| 水耕栽培サラダほうれん草 | 188 |\n",
    "| トマト | 98 |\n",
    "| 糖度最高級フルーツトマト | 168 |\n",
    "| りんご | 198 |\n",
    "| ふじりんご | 398 |\n",
    "| 白米 5kg | 1580 |\n",
    "| 魚沼産コシヒカリ 2kg | 1180 |\n"
   ]
  },
  {
   "cell_type": "code",
   "execution_count": 30,
   "metadata": {
    "collapsed": true
   },
   "outputs": [],
   "source": [
    "price = np.array([158, 188, 98, 168, 198, 398, 1580, 1180])"
   ]
  },
  {
   "cell_type": "markdown",
   "metadata": {},
   "source": [
    "\n",
    "ほうれん草2束、ふじりんご5個を買いました。**必ず** `price` 配列を使って、`+` 演算子を使わず、税込合計金額を求めてください。額は小数点以下切り捨てとします。"
   ]
  },
  {
   "cell_type": "code",
   "execution_count": 31,
   "metadata": {},
   "outputs": [
    {
     "data": {
      "text/plain": [
       "array([170., 429.])"
      ]
     },
     "execution_count": 31,
     "metadata": {},
     "output_type": "execute_result"
    }
   ],
   "source": [
    "np.floor(np.dot(price[[0,5]],1.08))"
   ]
  },
  {
   "cell_type": "code",
   "execution_count": 32,
   "metadata": {},
   "outputs": [
    {
     "data": {
      "text/plain": [
       "1410.48"
      ]
     },
     "execution_count": 32,
     "metadata": {},
     "output_type": "execute_result"
    }
   ],
   "source": [
    "cost = price * np.array([2,0,0,0,5,0,0,0])*1.08\n",
    "cost.sum()"
   ]
  },
  {
   "cell_type": "code",
   "execution_count": 33,
   "metadata": {},
   "outputs": [
    {
     "data": {
      "text/plain": [
       "2360.0"
      ]
     },
     "execution_count": 33,
     "metadata": {},
     "output_type": "execute_result"
    }
   ],
   "source": [
    "np.floor((price[[2,5]] * [2,5]).sum() *1.08)"
   ]
  },
  {
   "cell_type": "markdown",
   "metadata": {},
   "source": [
    "ちょっといい商品を、それぞれ3つずつ買うことにしました。`price` 配列を使って、`+` 演算子を使わず、税込合計金額を求めてください。額は小数点以下切り捨てとします。"
   ]
  },
  {
   "cell_type": "code",
   "execution_count": 34,
   "metadata": {},
   "outputs": [
    {
     "data": {
      "text/plain": [
       "5803.0"
      ]
     },
     "execution_count": 34,
     "metadata": {},
     "output_type": "execute_result"
    }
   ],
   "source": [
    " np.floor((price[1::2] *3).sum() + 1.08)"
   ]
  },
  {
   "cell_type": "markdown",
   "metadata": {},
   "source": [
    "自宅の買い物だけでなく、他の人の買い物もしてあげることになりました。  \n",
    "そこで、誰にどれだけ商品を買っていくかをまとめた表を作っておくことにしました。  \n",
    "\n",
    "|品目                   | 自宅 |     Aくん    |    Bくん   |\n",
    "|----------------------|:----:|:-----------:|:---------:|\n",
    "| ほうれん草             |  2  |       0      |     0     |\n",
    "| 水耕栽培サラダほうれん草 |  0  |       2      |     0     |\n",
    "| トマト                |  3  |       1      |     0     |\n",
    "| 糖度最高級フルーツトマト |  0  |       3      |     3     |\n",
    "| りんご                |  0  |       3      |     3     |\n",
    "| ふじりんご             |  4  |       0      |     3     |\n",
    "| 白米 5kg              |  1  |       1      |     0     |\n",
    "| 魚沼産コシヒカリ 2kg    |  0  |       1      |     0     |\n"
   ]
  },
  {
   "cell_type": "code",
   "execution_count": 36,
   "metadata": {},
   "outputs": [
    {
     "data": {
      "text/plain": [
       "array([[2, 0, 0],\n",
       "       [0, 2, 0],\n",
       "       [3, 1, 0],\n",
       "       [0, 3, 3],\n",
       "       [0, 3, 3],\n",
       "       [4, 0, 3],\n",
       "       [1, 1, 0],\n",
       "       [0, 1, 0]])"
      ]
     },
     "execution_count": 36,
     "metadata": {},
     "output_type": "execute_result"
    }
   ],
   "source": [
    "amount = np.array([[2, 0, 0], [0, 2, 0], [3, 1, 0], [0, 3, 3],\n",
    "                   [0, 3, 3], [4, 0, 3], [1, 1, 0], [0, 1, 0]])\n",
    "amount"
   ]
  },
  {
   "cell_type": "markdown",
   "metadata": {},
   "source": [
    "行列積を使い、購入に必要な金額の小計を依頼者ごとに求めてください。また、金額の合計も求めてください。"
   ]
  },
  {
   "cell_type": "code",
   "execution_count": 37,
   "metadata": {},
   "outputs": [
    {
     "data": {
      "text/plain": [
       "array([[2, 0, 3, 0, 0, 4, 1, 0],\n",
       "       [0, 2, 1, 3, 3, 0, 1, 1],\n",
       "       [0, 0, 0, 3, 3, 3, 0, 0]])"
      ]
     },
     "execution_count": 37,
     "metadata": {},
     "output_type": "execute_result"
    }
   ],
   "source": [
    "amount.T"
   ]
  },
  {
   "cell_type": "code",
   "execution_count": 38,
   "metadata": {},
   "outputs": [
    {
     "data": {
      "text/plain": [
       "(3, 8)"
      ]
     },
     "execution_count": 38,
     "metadata": {},
     "output_type": "execute_result"
    }
   ],
   "source": [
    "amount.T.shape"
   ]
  },
  {
   "cell_type": "code",
   "execution_count": 39,
   "metadata": {},
   "outputs": [
    {
     "data": {
      "text/plain": [
       "array([3782, 4332, 2292])"
      ]
     },
     "execution_count": 39,
     "metadata": {},
     "output_type": "execute_result"
    }
   ],
   "source": [
    "price2 = np.dot(amount.T,price)\n",
    "price2"
   ]
  },
  {
   "cell_type": "code",
   "execution_count": 40,
   "metadata": {},
   "outputs": [
    {
     "data": {
      "text/plain": [
       "11238.0"
      ]
     },
     "execution_count": 40,
     "metadata": {},
     "output_type": "execute_result"
    }
   ],
   "source": [
    "price3 = np.dot(amount.T,price).sum() *1.08\n",
    "np.floor(price3)"
   ]
  },
  {
   "cell_type": "code",
   "execution_count": 41,
   "metadata": {},
   "outputs": [
    {
     "data": {
      "text/plain": [
       "array([3782, 4332, 2292])"
      ]
     },
     "execution_count": 41,
     "metadata": {},
     "output_type": "execute_result"
    }
   ],
   "source": [
    "price2 = np.dot(price,amount)\n",
    "price2"
   ]
  },
  {
   "cell_type": "markdown",
   "metadata": {},
   "source": [
    "お駄賃として自宅からは500円、Bくんからは10％のマージンを1円単位、小数点以下切り上げで取ることにしました。  \n",
    "Aくんは小銭を持っておらず、細かなおつりをとっておいていいそうです。  \n",
    "各依頼者に出してもらう金額と、粗利合計を求めてください。`+` 演算子は含めても構いません。"
   ]
  },
  {
   "cell_type": "code",
   "execution_count": null,
   "metadata": {
    "collapsed": true
   },
   "outputs": [],
   "source": []
  },
  {
   "cell_type": "markdown",
   "metadata": {},
   "source": [
    "## 応用１：グラフ描画前の典型的な準備パターンを身につける"
   ]
  },
  {
   "cell_type": "markdown",
   "metadata": {},
   "source": [
    "###  $y=f(x)$ の描画\n",
    "$y = f(x)$ で表される式をグラフで描画する場合、以下のような処理を内部でおこないます。\n",
    "\n",
    "1. 関数 $f$ に入力する $x$ をたくさん用意する\n",
    "2. それぞれの $x$ に対し $f(x)$ の結果を得る\n",
    "3. $(x, f(x))$ の配列を、グラフ描画関数に渡す"
   ]
  },
  {
   "cell_type": "code",
   "execution_count": 42,
   "metadata": {
    "collapsed": true
   },
   "outputs": [],
   "source": [
    "def f(x):\n",
    "    return 3 * x**3 - 4 * x **2 + x - 8"
   ]
  },
  {
   "cell_type": "markdown",
   "metadata": {},
   "source": [
    "上記関数 $f(x)$ のグラフを、$[-1, 1]$ の区間で描画してください。  \n",
    "ポイントのサンプル数を 10, 50, 100 と変えて、結果を確認してください。"
   ]
  },
  {
   "cell_type": "code",
   "execution_count": 43,
   "metadata": {},
   "outputs": [
    {
     "data": {
      "text/plain": [
       "[<matplotlib.lines.Line2D at 0x116cec588>]"
      ]
     },
     "execution_count": 43,
     "metadata": {},
     "output_type": "execute_result"
    },
    {
     "data": {
      "image/png": "[encoded data removed]",
      "text/plain": [
       "<matplotlib.figure.Figure at 0x116ba2cc0>"
      ]
     },
     "metadata": {},
     "output_type": "display_data"
    }
   ],
   "source": [
    "#x =  # 値を生成する numpy の関数がありました。何を使えば良いでしょうか？\n",
    "#y = \n",
    "#plt.plot(x, y)\n",
    "x =  np.linspace(-1,1,50)\n",
    "y = f(x)\n",
    "plt.plot(x, y)"
   ]
  },
  {
   "cell_type": "markdown",
   "metadata": {},
   "source": [
    "### 参考：$z = g(x, y)$ の場合\n",
    "\n",
    "変数が2つある場合は、どうなるでしょうか？  \n",
    "この場合、上記とは別の関数を運用し、$(x, y)$ の組み合わせを作成します。以下の関数を実行してみてください。"
   ]
  },
  {
   "cell_type": "markdown",
   "metadata": {},
   "source": [
    "## もっと numpy と仲良くなりたい場合は...\n",
    "\n",
    "numpy 100本ノックとでもいうべき問題を作成し、[github](https://github.com/rougier/numpy-100/blob/master/100%20Numpy%20exercises%20no%20solution.ipynb) で公開している人がいます。  \n",
    "復習として、以下のオススメ問題にチャレンジしてみてください。同じリポジトリ内で、回答も用意されています。  \n",
    "ピンと来なければ、一旦スキップして良いと思います。  \n",
    "\n",
    "オススメ問題ピックアップ：  \n",
    "\n",
    "```\n",
    "自分で解けるようにしておきたい問題\n",
    "10, 15, 18, 19, 21, 22, 24, 25, 37, 39, 40, 45, 50, 58, 59, 72, 100\n",
    "\n",
    "解答を見てテクニックを勉強したい問題\n",
    "4, 16, 20, 23, 27, 29, 30, 35, 36, 38, 41, 42, 43, 46, 48, 51, 54, 55,\n",
    "67, 68, 70, 75, 77, 81, 83, 89, 92, 95\n",
    "```\n"
   ]
  }
 ],
 "metadata": {
  "anaconda-cloud": {},
  "kernelspec": {
   "display_name": "Python 3",
   "language": "python",
   "name": "python3"
  },
  "language_info": {
   "codemirror_mode": {
    "name": "ipython",
    "version": 3
   },
   "file_extension": ".py",
   "mimetype": "text/x-python",
   "name": "python",
   "nbconvert_exporter": "python",
   "pygments_lexer": "ipython3",
   "version": "3.6.5"
  },
  "toc": {
   "colors": {
    "hover_highlight": "#DAA520",
    "running_highlight": "#FF0000",
    "selected_highlight": "#FFD700"
   },
   "moveMenuLeft": true,
   "nav_menu": {
    "height": "246px",
    "width": "252px"
   },
   "navigate_menu": true,
   "number_sections": false,
   "sideBar": true,
   "threshold": 4,
   "toc_cell": false,
   "toc_section_display": "block",
   "toc_window_display": false
  }
 },
 "nbformat": 4,
 "nbformat_minor": 1
}
