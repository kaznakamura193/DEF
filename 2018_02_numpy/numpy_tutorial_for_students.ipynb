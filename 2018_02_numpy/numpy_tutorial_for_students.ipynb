{
 "cells": [
  {
   "cell_type": "markdown",
   "metadata": {},
   "source": [
    "# Numpy チュートリアル\n",
    "\n",
    "実際にコードを実行しながら、頻繁に使う numpy の関数を覚えていきましょう。"
   ]
  },
  {
   "cell_type": "markdown",
   "metadata": {},
   "source": [
    "## 配列の概念を理解する\n"
   ]
  },
  {
   "cell_type": "markdown",
   "metadata": {},
   "source": [
    "### データの次元\n",
    "\n",
    "ここでは、いろいろな次元のデータを作成して、表示してみます。"
   ]
  },
  {
   "cell_type": "code",
   "execution_count": 1,
   "metadata": {
    "collapsed": true
   },
   "outputs": [],
   "source": [
    "import numpy as np\n",
    "import matplotlib.pyplot as plt\n",
    "from scipy.misc import face as sampleimg\n",
    "from scipy.misc import toimage, imresize\n",
    "%matplotlib inline"
   ]
  },
  {
   "cell_type": "code",
   "execution_count": 2,
   "metadata": {},
   "outputs": [
    {
     "name": "stdout",
     "output_type": "stream",
     "text": [
      "1\n",
      "[1 2 3 4]\n"
     ]
    }
   ],
   "source": [
    "# 1次元\n",
    "array_1d = np.array([1, 2, 3, 4])\n",
    "print(array_1d.ndim)  # .ndim で array の次元数を得る\n",
    "print(array_1d)"
   ]
  },
  {
   "cell_type": "code",
   "execution_count": 3,
   "metadata": {},
   "outputs": [
    {
     "name": "stdout",
     "output_type": "stream",
     "text": [
      "2\n",
      "[[1 2 3 4]\n",
      " [5 6 7 8]]\n"
     ]
    }
   ],
   "source": [
    "# 2次元\n",
    "array_2d = np.array([[1, 2, 3, 4], [5, 6, 7, 8]])\n",
    "print(array_2d.ndim)\n",
    "print(array_2d)"
   ]
  },
  {
   "cell_type": "code",
   "execution_count": 4,
   "metadata": {},
   "outputs": [
    {
     "name": "stdout",
     "output_type": "stream",
     "text": [
      "3\n",
      "[[[0 1]\n",
      "  [2 3]]\n",
      "\n",
      " [[4 5]\n",
      "  [6 7]]]\n"
     ]
    }
   ],
   "source": [
    "# 3次元\n",
    "array_3d = np.array([[[0, 1], [2, 3]], [[4, 5], [6, 7]]])\n",
    "print(array_3d.ndim)\n",
    "print(array_3d) # 8個のサイコロを立方体状に組み上げた状態だが、出力結果の意味は直感的には理解しづらくなってくる。\n",
    "                # 0123 が1階部分、4567 が2階部分。"
   ]
  },
  {
   "cell_type": "markdown",
   "metadata": {},
   "source": [
    "#### 【問題】\n",
    "\n",
    "カラーの画像は、3次元の配列データです。  \n",
    "それぞれの次元は、何の情報を意味しているでしょうか？  \n",
    "以下の出力結果を見て、考えてみましょう。  "
   ]
  },
  {
   "cell_type": "code",
   "execution_count": 5,
   "metadata": {},
   "outputs": [
    {
     "data": {
      "image/png": "[encoded data removed]",
      "text/plain": [
       "<PIL.Image.Image image mode=RGB size=102x76 at 0x111923198>"
      ]
     },
     "execution_count": 5,
     "metadata": {},
     "output_type": "execute_result"
    }
   ],
   "source": [
    "img = imresize(sampleimg(), 0.1)\n",
    "toimage(img)"
   ]
  },
  {
   "cell_type": "code",
   "execution_count": 6,
   "metadata": {},
   "outputs": [
    {
     "name": "stdout",
     "output_type": "stream",
     "text": [
      "配列の形状: (76, 102, 3)\n",
      "[[[122 118 137]\n",
      "  [109 103 119]\n",
      "  [105  96 112]\n",
      "  ..., \n",
      "  [ 97 129  72]\n",
      "  [129 146  95]\n",
      "  [107 125  71]]\n",
      "\n",
      " [[121 116 135]\n",
      "  [130 122 142]\n",
      "  [129 121 141]\n",
      "  ..., \n",
      "  [ 90 127  62]\n",
      "  [ 90 121  62]\n",
      "  [ 76 103  50]]\n",
      "\n",
      " [[151 145 165]\n",
      "  [141 135 156]\n",
      "  [145 141 162]\n",
      "  ..., \n",
      "  [ 71  99  49]\n",
      "  [ 65  90  50]\n",
      "  [ 71  93  52]]\n",
      "\n",
      " ..., \n",
      " [[106 135  76]\n",
      "  [126 153  86]\n",
      "  [122 161  75]\n",
      "  ..., \n",
      "  [113 151 100]\n",
      "  [113 151  99]\n",
      "  [115 154 101]]\n",
      "\n",
      " [[116 138  85]\n",
      "  [127 158  85]\n",
      "  [115 158  70]\n",
      "  ..., \n",
      "  [114 154 101]\n",
      "  [110 151  98]\n",
      "  [111 149 100]]\n",
      "\n",
      " [[115 136  86]\n",
      "  [124 160  77]\n",
      "  [107 152  64]\n",
      "  ..., \n",
      "  [111 151  98]\n",
      "  [111 154 100]\n",
      "  [116 157 102]]]\n"
     ]
    }
   ],
   "source": [
    "print(\"配列の形状:\", img.shape)\n",
    "print(img)"
   ]
  },
  {
   "cell_type": "markdown",
   "metadata": {},
   "source": [
    "### 行列の転置\n",
    "\n",
    "`array.T` とすると、「転置」した配列データを得ることができます。  "
   ]
  },
  {
   "cell_type": "code",
   "execution_count": 7,
   "metadata": {},
   "outputs": [
    {
     "data": {
      "text/plain": [
       "array([[1, 5],\n",
       "       [2, 6],\n",
       "       [3, 7],\n",
       "       [4, 8]])"
      ]
     },
     "execution_count": 7,
     "metadata": {},
     "output_type": "execute_result"
    }
   ],
   "source": [
    "array_2d.T"
   ]
  },
  {
   "cell_type": "code",
   "execution_count": 9,
   "metadata": {},
   "outputs": [
    {
     "data": {
      "text/plain": [
       "array([[1, 2, 3, 4],\n",
       "       [5, 6, 7, 8]])"
      ]
     },
     "execution_count": 9,
     "metadata": {},
     "output_type": "execute_result"
    }
   ],
   "source": [
    "array_2d"
   ]
  },
  {
   "cell_type": "markdown",
   "metadata": {},
   "source": [
    "画像データを転置してみましょう。  \n",
    "プレビューは引き続き可能ですが、各次元が持つ意味が変わりました。  \n",
    "どのように変わったのでしょうか？"
   ]
  },
  {
   "cell_type": "code",
   "execution_count": null,
   "metadata": {
    "collapsed": true
   },
   "outputs": [],
   "source": [
    "print(img.T.shape)\n",
    "toimage(img.T)"
   ]
  },
  {
   "cell_type": "code",
   "execution_count": null,
   "metadata": {
    "collapsed": true
   },
   "outputs": [],
   "source": [
    "img.T"
   ]
  },
  {
   "cell_type": "markdown",
   "metadata": {},
   "source": [
    "### 行列演算 vs ループ処理\n",
    "\n",
    "numpy を使って処理をする理由の最たるものは、演算を高速に行うことです。  \n",
    "numpy では、複数の要素・値に対する処理を一括でおこなえるという利点があります。  \n",
    "データの数が小さければ、通常のPythonプログラミングで個別の値を処理しても大きな差にはなりませんが、  \n",
    "量が多くなるほど、その差が大きくなります。\n",
    "\n",
    "実際に、その差を観察してみましょう。"
   ]
  },
  {
   "cell_type": "code",
   "execution_count": 10,
   "metadata": {
    "collapsed": true
   },
   "outputs": [],
   "source": [
    "# 100x100 の2次元の配列・リストを作成します。\n",
    "value_array = np.arange(10000).reshape((100, 100))\n",
    "value_list = value_array.tolist()"
   ]
  },
  {
   "cell_type": "markdown",
   "metadata": {},
   "source": [
    "作成した配列・リストの全ての値に123 を足し、その時間を計測してみます。"
   ]
  },
  {
   "cell_type": "code",
   "execution_count": 13,
   "metadata": {},
   "outputs": [
    {
     "name": "stdout",
     "output_type": "stream",
     "text": [
      "1000 loops, best of 3: 446 µs per loop\n"
     ]
    }
   ],
   "source": [
    "%%timeit \n",
    "# リストの場合\n",
    "for row in value_list:\n",
    "    for col in row:\n",
    "        col + 123"
   ]
  },
  {
   "cell_type": "code",
   "execution_count": 14,
   "metadata": {},
   "outputs": [
    {
     "name": "stdout",
     "output_type": "stream",
     "text": [
      "The slowest run took 22.31 times longer than the fastest. This could mean that an intermediate result is being cached.\n",
      "100000 loops, best of 3: 4.84 µs per loop\n"
     ]
    }
   ],
   "source": [
    "# 配列の場合\n",
    "%timeit value_array + 123"
   ]
  },
  {
   "cell_type": "markdown",
   "metadata": {},
   "source": [
    "## 配列を作成する\n",
    "\n",
    "配列を作成するための関数は様々にありますが、初歩的かつ頻繁に使うものを、以下で取り上げます。"
   ]
  },
  {
   "cell_type": "markdown",
   "metadata": {},
   "source": [
    "### 0 または 1 で埋められた配列\n",
    "\n",
    "配列を最初に使う際は、できるだけ「きれいな値」で初期化しておきたいことがあります。  \n",
    "統計や機械学習では、様々な値を 0 から 1 までの値（あるいは -1 から 1）へ「正規化」することがよくあります。  \n",
    "この時、両極端となる 0 や 1 で埋められた値は、「きれいな値」と考えることができます。  "
   ]
  },
  {
   "cell_type": "code",
   "execution_count": 15,
   "metadata": {},
   "outputs": [
    {
     "data": {
      "text/plain": [
       "array([[ 1.,  1.,  1.,  1.,  1.,  1.],\n",
       "       [ 1.,  1.,  1.,  1.,  1.,  1.],\n",
       "       [ 1.,  1.,  1.,  1.,  1.,  1.],\n",
       "       [ 1.,  1.,  1.,  1.,  1.,  1.],\n",
       "       [ 1.,  1.,  1.,  1.,  1.,  1.]])"
      ]
     },
     "execution_count": 15,
     "metadata": {},
     "output_type": "execute_result"
    }
   ],
   "source": [
    "# 5x6 の配列を、1で埋める場合\n",
    "ones = np.ones((5, 6))\n",
    "ones"
   ]
  },
  {
   "cell_type": "code",
   "execution_count": 16,
   "metadata": {},
   "outputs": [
    {
     "data": {
      "text/plain": [
       "array([[ 0.,  0.,  0.,  0.,  0.],\n",
       "       [ 0.,  0.,  0.,  0.,  0.],\n",
       "       [ 0.,  0.,  0.,  0.,  0.]])"
      ]
     },
     "execution_count": 16,
     "metadata": {},
     "output_type": "execute_result"
    }
   ],
   "source": [
    "zeros = np.zeros((3, 5))\n",
    "zeros"
   ]
  },
  {
   "cell_type": "markdown",
   "metadata": {},
   "source": [
    "既存の配列と同じ形状の 0 埋め・1埋め配列を作ることもできます。"
   ]
  },
  {
   "cell_type": "code",
   "execution_count": 17,
   "metadata": {},
   "outputs": [
    {
     "data": {
      "text/plain": [
       "array([[1, 1, 1, 1],\n",
       "       [1, 1, 1, 1]])"
      ]
     },
     "execution_count": 17,
     "metadata": {},
     "output_type": "execute_result"
    }
   ],
   "source": [
    "ones_alt = np.ones_like(array_2d)  # np.zeros_like も使用可能\n",
    "ones_alt"
   ]
  },
  {
   "cell_type": "markdown",
   "metadata": {},
   "source": [
    "これは以下とほぼ同義です。"
   ]
  },
  {
   "cell_type": "code",
   "execution_count": null,
   "metadata": {
    "collapsed": true
   },
   "outputs": [],
   "source": [
    "np.ones(array_2d.shape, dtype=array_2d.dtype)  # 配列の構造、値の型を ones_like は揃えてくれている"
   ]
  },
  {
   "cell_type": "markdown",
   "metadata": {},
   "source": [
    "#### 【問題】\n",
    "\n",
    "では、-1 で埋められた任意の大きさの配列を作ってみてください。  \n",
    "0 や 1 の値をどう使えば良いでしょうか？"
   ]
  },
  {
   "cell_type": "code",
   "execution_count": null,
   "metadata": {
    "collapsed": true
   },
   "outputs": [],
   "source": [
    "np.zeros(array_2d.shape, dtype=array_2d.dtype) - np.ones(array_2d.shape, dtype=array_2d.dtype)"
   ]
  },
  {
   "cell_type": "markdown",
   "metadata": {},
   "source": [
    "### ランダムな値の生成\n",
    "\n",
    "ダミーデータを用意する時など、ランダムな値を使用したくなることもあります。  \n",
    "numpy ではランダム値生成の方法がいくつかありますが、代表的なものを取り上げます。"
   ]
  },
  {
   "cell_type": "markdown",
   "metadata": {},
   "source": [
    "#### ランダムな整数値\n",
    "\n",
    "ランダムな整数値を作ります。  \n",
    "以下では、`low` 以上 `high` 未満 の値を `size` だけ生成します。"
   ]
  },
  {
   "cell_type": "code",
   "execution_count": 38,
   "metadata": {},
   "outputs": [
    {
     "data": {
      "text/plain": [
       "array([2, 6, 5, 4, 1])"
      ]
     },
     "execution_count": 38,
     "metadata": {},
     "output_type": "execute_result"
    }
   ],
   "source": [
    "np.random.randint(low=0, high=10, size=5)"
   ]
  },
  {
   "cell_type": "markdown",
   "metadata": {},
   "source": [
    "単に数値だけを渡すと、0 以上 value 未満の値が抽出されるようになっています。"
   ]
  },
  {
   "cell_type": "code",
   "execution_count": 43,
   "metadata": {},
   "outputs": [
    {
     "data": {
      "text/plain": [
       "array([ 0, 10,  0, 13, 13])"
      ]
     },
     "execution_count": 43,
     "metadata": {},
     "output_type": "execute_result"
    }
   ],
   "source": [
    "np.random.randint(20, size=5)"
   ]
  },
  {
   "cell_type": "markdown",
   "metadata": {},
   "source": [
    "#### ランダムな小数値\n",
    "\n",
    "配列の形状を指定し、ランダムな小数値で構成される配列を作ります。  "
   ]
  },
  {
   "cell_type": "code",
   "execution_count": 56,
   "metadata": {},
   "outputs": [
    {
     "data": {
      "text/plain": [
       "array([[ 0.04496138,  0.18586606,  0.18451097,  0.93793478,  0.5676924 ],\n",
       "       [ 0.23398801,  0.91240897,  0.5333119 ,  0.18548394,  0.90892535]])"
      ]
     },
     "execution_count": 56,
     "metadata": {},
     "output_type": "execute_result"
    }
   ],
   "source": [
    "np.random.rand(2, 5)"
   ]
  },
  {
   "cell_type": "markdown",
   "metadata": {},
   "source": [
    "#### 既存の配列からランダムに N 個の値を抽出"
   ]
  },
  {
   "cell_type": "code",
   "execution_count": 63,
   "metadata": {},
   "outputs": [
    {
     "data": {
      "text/plain": [
       "array([74,  2, 21, 61, 92, 19, 44, 89, 67, 93])"
      ]
     },
     "execution_count": 63,
     "metadata": {},
     "output_type": "execute_result"
    }
   ],
   "source": [
    "some_array = np.arange(100)\n",
    "np.random.choice(some_array, size=10) # ランダムに 10個抽出"
   ]
  },
  {
   "cell_type": "markdown",
   "metadata": {},
   "source": [
    "#### ランダム値の固定\n",
    "\n",
    "できるだけランダムな値を使いたい一方、分析などの際に「再現性」が求められる場合は、  \n",
    "ランダムな値を発生させるための「種」を固定します。"
   ]
  },
  {
   "cell_type": "code",
   "execution_count": 64,
   "metadata": {},
   "outputs": [
    {
     "data": {
      "text/plain": [
       "array([ 0.10606491,  0.74547148,  0.57231354,  0.45824118,  0.3847059 ])"
      ]
     },
     "execution_count": 64,
     "metadata": {},
     "output_type": "execute_result"
    }
   ],
   "source": [
    "np.random.seed(124)\n",
    "np.random.rand(5)  # 何度実行しても同じ値になる"
   ]
  },
  {
   "cell_type": "markdown",
   "metadata": {},
   "source": [
    "#### 【問題】\n",
    "\n",
    "0以上 100以下のランダムな小数値を作成してみてください。"
   ]
  },
  {
   "cell_type": "code",
   "execution_count": 65,
   "metadata": {},
   "outputs": [
    {
     "data": {
      "text/plain": [
       "array([[ 27.39893063,  66.79624094,  39.54750108,  28.1572894 ,\n",
       "         77.99197054],\n",
       "       [ 59.90941638,  12.29463579,  38.95740328,  97.49883583,\n",
       "         46.75989007]])"
      ]
     },
     "execution_count": 65,
     "metadata": {},
     "output_type": "execute_result"
    }
   ],
   "source": [
    "np.random.rand(2, 5) * 100"
   ]
  },
  {
   "cell_type": "markdown",
   "metadata": {},
   "source": [
    "### 連続する値の生成\n",
    "\n",
    "ここまでの例でもさりげなく使っていましたが、連続する値を生成することができます。  \n",
    "Python の標準関数である `range` と似ていますが、`np.arange` を使います。"
   ]
  },
  {
   "cell_type": "code",
   "execution_count": 66,
   "metadata": {},
   "outputs": [
    {
     "data": {
      "text/plain": [
       "array([ 0,  1,  2,  3,  4,  5,  6,  7,  8,  9, 10, 11, 12, 13, 14, 15, 16,\n",
       "       17, 18, 19, 20, 21, 22, 23, 24, 25, 26, 27, 28, 29])"
      ]
     },
     "execution_count": 66,
     "metadata": {},
     "output_type": "execute_result"
    }
   ],
   "source": [
    "np.arange(30)"
   ]
  },
  {
   "cell_type": "code",
   "execution_count": 67,
   "metadata": {},
   "outputs": [
    {
     "data": {
      "text/plain": [
       "[0, 1, 2, 3, 4, 5, 6, 7, 8, 9]"
      ]
     },
     "execution_count": 67,
     "metadata": {},
     "output_type": "execute_result"
    }
   ],
   "source": [
    "list(range(10))"
   ]
  },
  {
   "cell_type": "markdown",
   "metadata": {},
   "source": [
    "start の値を指定することも可能です。"
   ]
  },
  {
   "cell_type": "code",
   "execution_count": null,
   "metadata": {
    "collapsed": true
   },
   "outputs": [],
   "source": [
    "np.arange(1000, 1030)"
   ]
  },
  {
   "cell_type": "markdown",
   "metadata": {},
   "source": [
    "必要なら、一つ飛びの値にすることもできます。"
   ]
  },
  {
   "cell_type": "code",
   "execution_count": null,
   "metadata": {
    "collapsed": true
   },
   "outputs": [],
   "source": [
    "np.arange(100, step=2)"
   ]
  },
  {
   "cell_type": "markdown",
   "metadata": {},
   "source": [
    "### 最大・最小値と内部のセグメント数を指定した値の生成\n",
    "\n",
    "区間とその内部のセグメント数を指定し、等間隔に値を設定した配列を作ることができます。\n",
    "\n",
    "例えば、グラフを点の集合で描くとしましょう。  \n",
    "$y = ax^2 + bx + c$ のグラフをある $x$ の区間について描き出したい時、  \n",
    "$y$ をサンプリングするための $x$ を作る際に利用できます。  \n",
    "\n",
    "このケースでは、$x$ の数を増やすほど、グラフが正確になります。  \n",
    "同等の配列を `np.arange` でも表現することはできますが、  \n",
    "何を制御したいかという要求によって、`np.arange` と `np.linspace` の使い分けをおこないます。"
   ]
  },
  {
   "cell_type": "code",
   "execution_count": 68,
   "metadata": {
    "collapsed": true
   },
   "outputs": [],
   "source": [
    "def f(x):\n",
    "    return 3 * (x **2) + 2 * x + 1 "
   ]
  },
  {
   "cell_type": "code",
   "execution_count": 69,
   "metadata": {},
   "outputs": [
    {
     "data": {
      "text/plain": [
       "array([   0. ,    0.5,    1. ,    1.5,    2. ,    2.5,    3. ,    3.5,\n",
       "          4. ,    4.5,    5. ,    5.5,    6. ,    6.5,    7. ,    7.5,\n",
       "          8. ,    8.5,    9. ,    9.5,   10. ,   10.5,   11. ,   11.5,\n",
       "         12. ,   12.5,   13. ,   13.5,   14. ,   14.5,   15. ,   15.5,\n",
       "         16. ,   16.5,   17. ,   17.5,   18. ,   18.5,   19. ,   19.5,\n",
       "         20. ,   20.5,   21. ,   21.5,   22. ,   22.5,   23. ,   23.5,\n",
       "         24. ,   24.5,   25. ,   25.5,   26. ,   26.5,   27. ,   27.5,\n",
       "         28. ,   28.5,   29. ,   29.5,   30. ,   30.5,   31. ,   31.5,\n",
       "         32. ,   32.5,   33. ,   33.5,   34. ,   34.5,   35. ,   35.5,\n",
       "         36. ,   36.5,   37. ,   37.5,   38. ,   38.5,   39. ,   39.5,\n",
       "         40. ,   40.5,   41. ,   41.5,   42. ,   42.5,   43. ,   43.5,\n",
       "         44. ,   44.5,   45. ,   45.5,   46. ,   46.5,   47. ,   47.5,\n",
       "         48. ,   48.5,   49. ,   49.5,   50. ,   50.5,   51. ,   51.5,\n",
       "         52. ,   52.5,   53. ,   53.5,   54. ,   54.5,   55. ,   55.5,\n",
       "         56. ,   56.5,   57. ,   57.5,   58. ,   58.5,   59. ,   59.5,\n",
       "         60. ,   60.5,   61. ,   61.5,   62. ,   62.5,   63. ,   63.5,\n",
       "         64. ,   64.5,   65. ,   65.5,   66. ,   66.5,   67. ,   67.5,\n",
       "         68. ,   68.5,   69. ,   69.5,   70. ,   70.5,   71. ,   71.5,\n",
       "         72. ,   72.5,   73. ,   73.5,   74. ,   74.5,   75. ,   75.5,\n",
       "         76. ,   76.5,   77. ,   77.5,   78. ,   78.5,   79. ,   79.5,\n",
       "         80. ,   80.5,   81. ,   81.5,   82. ,   82.5,   83. ,   83.5,\n",
       "         84. ,   84.5,   85. ,   85.5,   86. ,   86.5,   87. ,   87.5,\n",
       "         88. ,   88.5,   89. ,   89.5,   90. ,   90.5,   91. ,   91.5,\n",
       "         92. ,   92.5,   93. ,   93.5,   94. ,   94.5,   95. ,   95.5,\n",
       "         96. ,   96.5,   97. ,   97.5,   98. ,   98.5,   99. ,   99.5,\n",
       "        100. ])"
      ]
     },
     "execution_count": 69,
     "metadata": {},
     "output_type": "execute_result"
    }
   ],
   "source": [
    "np.linspace(0, 100, num=201)  # np.arange(0, 100.5, 0.5) と等価"
   ]
  },
  {
   "cell_type": "code",
   "execution_count": 71,
   "metadata": {},
   "outputs": [
    {
     "data": {
      "text/plain": [
       "[<matplotlib.lines.Line2D at 0x11a35f978>]"
      ]
     },
     "execution_count": 71,
     "metadata": {},
     "output_type": "execute_result"
    },
    {
     "data": {
      "image/png": "[encoded data removed]",
      "text/plain": [
       "<matplotlib.figure.Figure at 0x11a27ec88>"
      ]
     },
     "metadata": {},
     "output_type": "display_data"
    }
   ],
   "source": [
    "x = np.linspace(0, 20, num=50)  # num を増やすほど正確に関数を表現できる\n",
    "plt.plot(x, f(x), \"ro\")"
   ]
  },
  {
   "cell_type": "markdown",
   "metadata": {},
   "source": [
    "## 配列の情報を取得する"
   ]
  },
  {
   "cell_type": "markdown",
   "metadata": {},
   "source": [
    "### 配列そのものの情報を得る\n",
    "\n",
    "こちらもこれまでの例で利用してきたものですが、配列の情報を配列自身から取得可能です。"
   ]
  },
  {
   "cell_type": "code",
   "execution_count": 72,
   "metadata": {},
   "outputs": [
    {
     "data": {
      "text/plain": [
       "array([[ 1,  2,  3,  4,  5],\n",
       "       [ 6,  7,  8,  9, 10],\n",
       "       [ 6,  7,  8,  9, 10]])"
      ]
     },
     "execution_count": 72,
     "metadata": {},
     "output_type": "execute_result"
    }
   ],
   "source": [
    "array = np.array([[1, 2, 3, 4, 5], [6, 7, 8, 9, 10], [6, 7, 8, 9, 10]])\n",
    "array"
   ]
  },
  {
   "cell_type": "code",
   "execution_count": 73,
   "metadata": {},
   "outputs": [
    {
     "data": {
      "text/plain": [
       "15"
      ]
     },
     "execution_count": 73,
     "metadata": {},
     "output_type": "execute_result"
    }
   ],
   "source": [
    "array.size"
   ]
  },
  {
   "cell_type": "code",
   "execution_count": 74,
   "metadata": {},
   "outputs": [
    {
     "data": {
      "text/plain": [
       "(3, 5)"
      ]
     },
     "execution_count": 74,
     "metadata": {},
     "output_type": "execute_result"
    }
   ],
   "source": [
    "array.shape"
   ]
  },
  {
   "cell_type": "code",
   "execution_count": 75,
   "metadata": {},
   "outputs": [
    {
     "data": {
      "text/plain": [
       "2"
      ]
     },
     "execution_count": 75,
     "metadata": {},
     "output_type": "execute_result"
    }
   ],
   "source": [
    "array.ndim"
   ]
  },
  {
   "cell_type": "markdown",
   "metadata": {},
   "source": [
    "### 位置・範囲を指定して配列から値を抽出\n",
    "\n",
    "Python のリストと似た作法で、配列中の位置・範囲を指定して値を抽出可能です。  \n",
    "別資料を参照しつつ、どのような指定ができるか、確認してみてください。"
   ]
  },
  {
   "cell_type": "code",
   "execution_count": 76,
   "metadata": {},
   "outputs": [
    {
     "data": {
      "text/plain": [
       "array([[ 0,  1,  2,  3,  4,  5],\n",
       "       [ 6,  7,  8,  9, 10, 11],\n",
       "       [12, 13, 14, 15, 16, 17],\n",
       "       [18, 19, 20, 21, 22, 23],\n",
       "       [24, 25, 26, 27, 28, 29],\n",
       "       [30, 31, 32, 33, 34, 35]])"
      ]
     },
     "execution_count": 76,
     "metadata": {},
     "output_type": "execute_result"
    }
   ],
   "source": [
    "square = np.arange(36).reshape((6, 6))\n",
    "square"
   ]
  },
  {
   "cell_type": "code",
   "execution_count": null,
   "metadata": {
    "collapsed": true
   },
   "outputs": [],
   "source": [
    "square[1, 1:3]"
   ]
  },
  {
   "cell_type": "code",
   "execution_count": 77,
   "metadata": {},
   "outputs": [
    {
     "data": {
      "text/plain": [
       "array([[ 4,  5],\n",
       "       [10, 11]])"
      ]
     },
     "execution_count": 77,
     "metadata": {},
     "output_type": "execute_result"
    }
   ],
   "source": [
    "square[:2, -2:]"
   ]
  },
  {
   "cell_type": "code",
   "execution_count": 78,
   "metadata": {},
   "outputs": [
    {
     "data": {
      "text/plain": [
       "array([[19, 21],\n",
       "       [25, 27],\n",
       "       [31, 33]])"
      ]
     },
     "execution_count": 78,
     "metadata": {},
     "output_type": "execute_result"
    }
   ],
   "source": [
    "square[3:, 1:4:2]"
   ]
  },
  {
   "cell_type": "code",
   "execution_count": 79,
   "metadata": {},
   "outputs": [
    {
     "data": {
      "text/plain": [
       "array([[19, 21],\n",
       "       [25, 27],\n",
       "       [31, 33]])"
      ]
     },
     "execution_count": 79,
     "metadata": {},
     "output_type": "execute_result"
    }
   ],
   "source": [
    "square[3:, [1, 3]]"
   ]
  },
  {
   "cell_type": "markdown",
   "metadata": {},
   "source": [
    "#### 【問題】\n",
    "\n",
    "上記の配列 `square` から、0 を含む 3 の倍数の数値を、位置・範囲指定で抽出してください。"
   ]
  },
  {
   "cell_type": "code",
   "execution_count": 80,
   "metadata": {},
   "outputs": [
    {
     "data": {
      "text/plain": [
       "array([[ 0,  3],\n",
       "       [ 6,  9],\n",
       "       [12, 15],\n",
       "       [18, 21],\n",
       "       [24, 27],\n",
       "       [30, 33]])"
      ]
     },
     "execution_count": 80,
     "metadata": {},
     "output_type": "execute_result"
    }
   ],
   "source": [
    "square[:, ::3]"
   ]
  },
  {
   "cell_type": "markdown",
   "metadata": {},
   "source": [
    "### 抽出条件を指定して配列から値を抽出\n",
    "\n",
    "値の大小や一致などの条件を指定し、条件に合致した値を抽出することもできます。  \n",
    "少し分かりにくい部分があるため、実際の動きを見ながら、その方法を理解しておきましょう。\n",
    "\n",
    "なお、この作法は、表形式データを扱える `pandas` モジュールでも同様です。"
   ]
  },
  {
   "cell_type": "code",
   "execution_count": 81,
   "metadata": {},
   "outputs": [
    {
     "data": {
      "text/plain": [
       "array([0, 1, 2, 3, 4, 5, 6, 7, 8, 9])"
      ]
     },
     "execution_count": 81,
     "metadata": {},
     "output_type": "execute_result"
    }
   ],
   "source": [
    "array = np.arange(10)\n",
    "array"
   ]
  },
  {
   "cell_type": "markdown",
   "metadata": {},
   "source": [
    "まず、条件の指定です。「5より大きい」という条件にします。"
   ]
  },
  {
   "cell_type": "code",
   "execution_count": 82,
   "metadata": {},
   "outputs": [
    {
     "data": {
      "text/plain": [
       "array([False, False, False, False, False, False,  True,  True,  True,  True], dtype=bool)"
      ]
     },
     "execution_count": 82,
     "metadata": {},
     "output_type": "execute_result"
    }
   ],
   "source": [
    "array > 5"
   ]
  },
  {
   "cell_type": "markdown",
   "metadata": {},
   "source": [
    "`True / False` の値の配列となりました。これを、元の配列と組み合わせます。"
   ]
  },
  {
   "cell_type": "code",
   "execution_count": 83,
   "metadata": {},
   "outputs": [
    {
     "data": {
      "text/plain": [
       "array([6, 7, 8, 9])"
      ]
     },
     "execution_count": 83,
     "metadata": {},
     "output_type": "execute_result"
    }
   ],
   "source": [
    "array[array > 5]"
   ]
  },
  {
   "cell_type": "markdown",
   "metadata": {},
   "source": [
    "結果、条件に合致し `True` となった部分の値だけが残ります。"
   ]
  },
  {
   "cell_type": "markdown",
   "metadata": {},
   "source": [
    "#### 【問題】\n",
    "\n",
    "先ほどの `square` 配列で、0 を含む 3 の倍数の数値を、条件指定により抽出してください。  \n",
    "位置指定の場合と、何か結果に違いがあるでしょうか。  \n",
    "\n",
    "ヒント：割り算は `/` だが、割った後の余りの値を求めるには `%` 演算子を使う"
   ]
  },
  {
   "cell_type": "code",
   "execution_count": 84,
   "metadata": {},
   "outputs": [
    {
     "data": {
      "text/plain": [
       "(3, 3, 3)"
      ]
     },
     "execution_count": 84,
     "metadata": {},
     "output_type": "execute_result"
    }
   ],
   "source": [
    "square = np.arange(27).reshape((3, 3, 3))\n",
    "square.shape"
   ]
  },
  {
   "cell_type": "markdown",
   "metadata": {},
   "source": [
    "## 配列を使う基礎的な処理・演算"
   ]
  },
  {
   "cell_type": "markdown",
   "metadata": {},
   "source": [
    "### 四則演算を実行する\n",
    "\n",
    "ここまでの内容でも、四則演算を自然と利用してきました。  \n",
    "配列に対して、単一の値を足し引きしたりすると、全ての要素に同じ処理が適用されます。  \n",
    "元の配列は上書きされません。"
   ]
  },
  {
   "cell_type": "code",
   "execution_count": null,
   "metadata": {
    "collapsed": true
   },
   "outputs": [],
   "source": [
    "square + 6"
   ]
  },
  {
   "cell_type": "markdown",
   "metadata": {},
   "source": [
    "同じ形状の配列を用意し、それらを足し引きすると、要素同士で加減乗除できます。"
   ]
  },
  {
   "cell_type": "code",
   "execution_count": 85,
   "metadata": {},
   "outputs": [
    {
     "name": "stdout",
     "output_type": "stream",
     "text": [
      "[ 0.14017141  0.04206858  0.72799627  0.61560551  0.9027321 ]\n",
      "[ 0.62263341  0.2601217   0.55551768  0.40498648  0.14175587]\n"
     ]
    }
   ],
   "source": [
    "a = np.random.rand(5)\n",
    "b = np.random.rand(5)\n",
    "print(a)\n",
    "print(b)"
   ]
  },
  {
   "cell_type": "code",
   "execution_count": 86,
   "metadata": {},
   "outputs": [
    {
     "data": {
      "text/plain": [
       "array([ 0.2251267 ,  0.16172653,  1.31048264,  1.52006434,  6.36821666])"
      ]
     },
     "execution_count": 86,
     "metadata": {},
     "output_type": "execute_result"
    }
   ],
   "source": [
    "a / b"
   ]
  },
  {
   "cell_type": "markdown",
   "metadata": {},
   "source": [
    "### 基本統計量を計算する\n",
    "\n",
    "簡単な統計値は、numpy でもすぐに計算することができます。"
   ]
  },
  {
   "cell_type": "markdown",
   "metadata": {},
   "source": [
    "#### 最大・最小値\n",
    "\n",
    "配列内の最大値、最小値を求めます。  \n",
    "2次元以上の配列の場合、axis を指定することで、候補の値を走査する方向を指定できます。"
   ]
  },
  {
   "cell_type": "code",
   "execution_count": 87,
   "metadata": {},
   "outputs": [
    {
     "data": {
      "text/plain": [
       "array([424, 180, 681, 236,  67, 153, 158, 258, 591, 165, 474, 630, 608,\n",
       "       671, 433, 238, 229, 362, 596, 594])"
      ]
     },
     "execution_count": 87,
     "metadata": {},
     "output_type": "execute_result"
    }
   ],
   "source": [
    "random_values = np.random.randint(800, size=20)\n",
    "random_values"
   ]
  },
  {
   "cell_type": "code",
   "execution_count": 88,
   "metadata": {},
   "outputs": [
    {
     "name": "stdout",
     "output_type": "stream",
     "text": [
      "681\n",
      "67\n"
     ]
    }
   ],
   "source": [
    "print(random_values.max())\n",
    "print(random_values.min())"
   ]
  },
  {
   "cell_type": "code",
   "execution_count": 89,
   "metadata": {},
   "outputs": [
    {
     "data": {
      "text/plain": [
       "array([[424, 180, 681, 236,  67],\n",
       "       [153, 158, 258, 591, 165],\n",
       "       [474, 630, 608, 671, 433],\n",
       "       [238, 229, 362, 596, 594]])"
      ]
     },
     "execution_count": 89,
     "metadata": {},
     "output_type": "execute_result"
    }
   ],
   "source": [
    "random_values_2d = random_values.reshape((4, 5))\n",
    "random_values_2d"
   ]
  },
  {
   "cell_type": "code",
   "execution_count": 90,
   "metadata": {},
   "outputs": [
    {
     "name": "stdout",
     "output_type": "stream",
     "text": [
      "[681 591 671 596]\n"
     ]
    }
   ],
   "source": [
    "print(random_values_2d.max(axis=1))"
   ]
  },
  {
   "cell_type": "code",
   "execution_count": 91,
   "metadata": {},
   "outputs": [
    {
     "name": "stdout",
     "output_type": "stream",
     "text": [
      "[153 158 258 236  67]\n"
     ]
    }
   ],
   "source": [
    "print(random_values_2d.min(axis=0))"
   ]
  },
  {
   "cell_type": "markdown",
   "metadata": {},
   "source": [
    "#### 総和\n",
    "\n",
    "配列内の値の合計を求めます。`min / max` と同様、`axis` 指定が可能です。  \n",
    "以降、同様に `axis` を指定できます。"
   ]
  },
  {
   "cell_type": "code",
   "execution_count": 92,
   "metadata": {},
   "outputs": [
    {
     "data": {
      "text/plain": [
       "7748"
      ]
     },
     "execution_count": 92,
     "metadata": {},
     "output_type": "execute_result"
    }
   ],
   "source": [
    "random_values.sum()"
   ]
  },
  {
   "cell_type": "markdown",
   "metadata": {},
   "source": [
    "#### 平均値\n",
    "\n",
    "配列内の値の平均を求めます。"
   ]
  },
  {
   "cell_type": "code",
   "execution_count": 93,
   "metadata": {},
   "outputs": [
    {
     "data": {
      "text/plain": [
       "387.39999999999998"
      ]
     },
     "execution_count": 93,
     "metadata": {},
     "output_type": "execute_result"
    }
   ],
   "source": [
    "random_values.mean()"
   ]
  },
  {
   "cell_type": "markdown",
   "metadata": {},
   "source": [
    "#### 標準偏差\n",
    "\n",
    "配列内の値から標準偏差を求めます。  \n",
    "詳細は今回は割愛しますが、`ddof=0` / `ddof=1` 引数の指定により、標準偏差の分母 N / N-1 を制御できます。"
   ]
  },
  {
   "cell_type": "code",
   "execution_count": 94,
   "metadata": {},
   "outputs": [
    {
     "data": {
      "text/plain": [
       "200.39221541766534"
      ]
     },
     "execution_count": 94,
     "metadata": {},
     "output_type": "execute_result"
    }
   ],
   "source": [
    "random_values.std()"
   ]
  },
  {
   "cell_type": "markdown",
   "metadata": {},
   "source": [
    "#### 分散\n",
    "\n",
    "配列内の値から分散を求めます。`ddof` の引数指定が可能です。"
   ]
  },
  {
   "cell_type": "code",
   "execution_count": 95,
   "metadata": {},
   "outputs": [
    {
     "data": {
      "text/plain": [
       "40157.039999999994"
      ]
     },
     "execution_count": 95,
     "metadata": {},
     "output_type": "execute_result"
    }
   ],
   "source": [
    "random_values.var()"
   ]
  },
  {
   "cell_type": "markdown",
   "metadata": {},
   "source": [
    "#### 中央値\n",
    "\n",
    "配列内の値の中央値を求めます。  \n",
    "配列内の値の数が偶数の場合、中央の2つの値の平均をとり、それを中央値として返します。"
   ]
  },
  {
   "cell_type": "code",
   "execution_count": 96,
   "metadata": {},
   "outputs": [
    {
     "data": {
      "text/plain": [
       "393.0"
      ]
     },
     "execution_count": 96,
     "metadata": {},
     "output_type": "execute_result"
    }
   ],
   "source": [
    "np.median(random_values)"
   ]
  },
  {
   "cell_type": "markdown",
   "metadata": {},
   "source": [
    "#### 百分位数\n",
    "\n",
    "百分位数で指定された位置の値を返します。  \n",
    "50 を指定すると、中央値と同じ意味になります。  \n",
    "返される値は、デフォルトでは補間された値となり、必ずしも要素として実在する値にはなりません。  \n",
    "常に実在する値を返して欲しい場合は、`interpolation` 引数に、  \n",
    "`nearest` や `lower`、 `higher` といったキーワードを渡します。"
   ]
  },
  {
   "cell_type": "code",
   "execution_count": null,
   "metadata": {
    "collapsed": true
   },
   "outputs": [],
   "source": [
    "np.sort(random_values)"
   ]
  },
  {
   "cell_type": "code",
   "execution_count": null,
   "metadata": {
    "collapsed": true
   },
   "outputs": [],
   "source": [
    "np.percentile(random_values, 80, interpolation=\"higher\")"
   ]
  },
  {
   "cell_type": "code",
   "execution_count": null,
   "metadata": {
    "collapsed": true
   },
   "outputs": [],
   "source": [
    "img.T[0,:,:].mean()"
   ]
  },
  {
   "cell_type": "markdown",
   "metadata": {},
   "source": [
    "### 行列積の計算\n",
    "\n",
    "ここまでは、ごく基本的な算数・数学の処理を取り上げてきました。  \n",
    "ここで、統計や機械学習で頻繁に用いられる行列積を `numpy` で取り扱います。  \n",
    "\n",
    "#### なぜ行列積が「よく使われている」のか？\n",
    "\n",
    "例えば、線形回帰による値の予測モデルを作ったとします。  \n",
    "その予測のモデルが、次の式で表現される結果となりました。\n",
    "\n",
    "$$ y= 3x_1 + 4x_2 $$\n",
    "\n",
    "$x_1$ や $x_2$ は、何らかの特徴パラメータの値と考えてください。  \n",
    "（例えば住宅価格予想なら、「広さ」や「駅からの距離」といった、物件ごとの情報です）\n",
    "\n",
    "ここで、以下のような新しい $(x_1, x_2)$ のデータが得られたため、それぞれの予測結果を取得したいところです。\n",
    "\n",
    "|レコード| $x_1$ | $x_2$ | $y$ |\n",
    "|-------|-------|-------|--|\n",
    "|#0|2|3| |\n",
    "|#1|4|6| |\n",
    "|#2|9|0| |\n",
    "|#3|1|4| |\n",
    "|#4|4|12| |\n",
    "|#5|9|17| |\n",
    "|#..|:|:| | |\n",
    "\n",
    "この時、どのような処理が必要になるでしょうか？\n",
    "\n",
    "$3 \\times 2$ + $4 \\times 3 = 18$ \n",
    "という処理を、1行ずつ処理することもできますが、それではデータ数が増えると処理の効率が下がります。  \n",
    "以下のような処理をまとめておこない、一括で予測結果を得たいのです。\n",
    "\n",
    "- $3 \\times 2$ + $4 \\times 3$\n",
    "- $3 \\times 4$ + $4 \\times 6$\n",
    "- $3 \\times 9$ + $4 \\times 0$\n",
    "- ...\n",
    "\n",
    "ここで登場するのが、行列積の概念です。  \n",
    "行列積は、2つの行列について、まさにこれに相当する処理をおこなってくれます。  \n",
    "\n",
    "$$\n",
    "\\begin{bmatrix}\n",
    "        2 & 3  \\\\\n",
    "        4 & 6  \\\\\n",
    "        9 & 0  \\\\\n",
    "        1 & 4  \\\\        \n",
    "        4 & 12 \\\\        \n",
    "        9 & 17 \\\\        \n",
    "\\end{bmatrix} \\cdot \\begin{bmatrix}\n",
    "        3 \\\\\n",
    "        4 \\\\\n",
    "\\end{bmatrix}\n",
    "$$\n",
    "\n",
    "実際に結果を確認してみましょう。"
   ]
  },
  {
   "cell_type": "code",
   "execution_count": 97,
   "metadata": {},
   "outputs": [
    {
     "data": {
      "text/plain": [
       "array([[ 2,  3],\n",
       "       [ 4,  6],\n",
       "       [ 9,  0],\n",
       "       [ 1,  4],\n",
       "       [ 4, 12],\n",
       "       [ 9, 17]])"
      ]
     },
     "execution_count": 97,
     "metadata": {},
     "output_type": "execute_result"
    }
   ],
   "source": [
    "x = np.array([[2, 3], [4, 6], [9, 0], [1, 4], [4, 12], [9, 17]])\n",
    "x"
   ]
  },
  {
   "cell_type": "code",
   "execution_count": 98,
   "metadata": {},
   "outputs": [
    {
     "data": {
      "text/plain": [
       "array([[3],\n",
       "       [4]])"
      ]
     },
     "execution_count": 98,
     "metadata": {},
     "output_type": "execute_result"
    }
   ],
   "source": [
    "w = np.array([[3], [4]])\n",
    "w"
   ]
  },
  {
   "cell_type": "code",
   "execution_count": 99,
   "metadata": {},
   "outputs": [
    {
     "data": {
      "text/plain": [
       "array([[18],\n",
       "       [36],\n",
       "       [27],\n",
       "       [19],\n",
       "       [60],\n",
       "       [95]])"
      ]
     },
     "execution_count": 99,
     "metadata": {},
     "output_type": "execute_result"
    }
   ],
   "source": [
    "np.dot(x, w)"
   ]
  },
  {
   "cell_type": "markdown",
   "metadata": {},
   "source": [
    "予想だけでなく、機械学習の学習処理などでも、これと同等の処理が内部でおこなわれることがあります。  \n",
    "\n",
    "パラメータ情報の配列と、係数＝重みの情報の配列が個別に管理されている時に、  \n",
    "それを利用して各パラメータ $\\times$ 重み の和を得る。  \n",
    "この処理をより効率的に進めるために行列積が利用されていることを、覚えておきましょう。  \n",
    "今後線形回帰などの処理を理解していく上で、役立ちます。"
   ]
  },
  {
   "cell_type": "markdown",
   "metadata": {},
   "source": [
    "#### 【問題】\n",
    "\n",
    "先ほどのモデル式が更新され、$ y= 3x_1 + 4x_2 + 2 $ となりました。  \n",
    "同じ $x_1$, $x_2$ の情報を用い、再度行列積で $y$ を求めてください。  \n",
    "ただし、以前に求めた結果に 2 を足す処理をせず、以下の `w_` を使って、行列積を利用して値を求めてください。"
   ]
  },
  {
   "cell_type": "code",
   "execution_count": 100,
   "metadata": {},
   "outputs": [
    {
     "data": {
      "text/plain": [
       "array([[3],\n",
       "       [4],\n",
       "       [2]])"
      ]
     },
     "execution_count": 100,
     "metadata": {},
     "output_type": "execute_result"
    }
   ],
   "source": [
    "w_ = np.array([[3], [4], [2]])\n",
    "w_"
   ]
  },
  {
   "cell_type": "code",
   "execution_count": null,
   "metadata": {
    "collapsed": true
   },
   "outputs": [],
   "source": []
  },
  {
   "cell_type": "markdown",
   "metadata": {},
   "source": [
    "### その他の基本的な演算・処理\n",
    "\n",
    "全景項目より頻度は下がるかもしれませんが、一般的によく使われている関数をいくつか取り上げます。"
   ]
  },
  {
   "cell_type": "markdown",
   "metadata": {},
   "source": [
    "#### 累積和\n",
    "\n",
    "配列の要素の最初から現在位置までの値を、全て足し合わせます。  \n",
    "一番最後の要素の値は、`array.sum()` の結果と一致するはずです。"
   ]
  },
  {
   "cell_type": "code",
   "execution_count": 101,
   "metadata": {},
   "outputs": [
    {
     "data": {
      "text/plain": [
       "array([   0,    1,    3,    6,   10,   15,   21,   28,   36,   45,   55,\n",
       "         66,   78,   91,  105,  120,  136,  153,  171,  190,  210,  231,\n",
       "        253,  276,  300,  325,  351,  378,  406,  435,  465,  496,  528,\n",
       "        561,  595,  630,  666,  703,  741,  780,  820,  861,  903,  946,\n",
       "        990, 1035, 1081, 1128, 1176, 1225, 1275, 1326, 1378, 1431, 1485,\n",
       "       1540, 1596, 1653, 1711, 1770, 1830, 1891, 1953, 2016, 2080, 2145,\n",
       "       2211, 2278, 2346, 2415, 2485, 2556, 2628, 2701, 2775, 2850, 2926,\n",
       "       3003, 3081, 3160, 3240, 3321, 3403, 3486, 3570, 3655, 3741, 3828,\n",
       "       3916, 4005, 4095, 4186, 4278, 4371, 4465, 4560, 4656, 4753, 4851,\n",
       "       4950])"
      ]
     },
     "execution_count": 101,
     "metadata": {},
     "output_type": "execute_result"
    }
   ],
   "source": [
    "some_array = np.arange(100)\n",
    "some_array.cumsum()"
   ]
  },
  {
   "cell_type": "markdown",
   "metadata": {},
   "source": [
    "#### 絶対値\n",
    "\n",
    "値の絶対値を得ます。"
   ]
  },
  {
   "cell_type": "code",
   "execution_count": null,
   "metadata": {
    "collapsed": true
   },
   "outputs": [],
   "source": [
    "neg_array = np.arange(-10, 10)\n",
    "neg_array"
   ]
  },
  {
   "cell_type": "code",
   "execution_count": null,
   "metadata": {
    "collapsed": true
   },
   "outputs": [],
   "source": [
    "np.abs(neg_array)"
   ]
  },
  {
   "cell_type": "markdown",
   "metadata": {},
   "source": [
    "#### 最大・最小値要素のインデックス番号\n",
    "\n",
    "配列中の最大値・最小値のインデックス番号を、`argmax` / `argmin` でそれぞれ取得可能です。  \n",
    "最大値・最小値そのものより、最大・最小値の存在する場所や、  \n",
    "最大・最小値を保有する個所・レコードの他の情報に関心がある時に、利用します。  \n",
    "2次元以上の配列なら、多くの場合 axis を指定することになります。"
   ]
  },
  {
   "cell_type": "code",
   "execution_count": null,
   "metadata": {
    "collapsed": true
   },
   "outputs": [],
   "source": [
    "random_array = np.random.rand(2, 5)\n",
    "random_array"
   ]
  },
  {
   "cell_type": "code",
   "execution_count": null,
   "metadata": {
    "collapsed": true
   },
   "outputs": [],
   "source": [
    "random_array.argmax(axis=1)"
   ]
  },
  {
   "cell_type": "code",
   "execution_count": null,
   "metadata": {
    "collapsed": true
   },
   "outputs": [],
   "source": [
    "random_array.argmin(axis=0)"
   ]
  },
  {
   "cell_type": "markdown",
   "metadata": {},
   "source": [
    "#### 値のソート\n",
    "\n",
    "値をソートします。  \n",
    "`np.sort` は配列のコピーを返しますが、`array.sort` は配列そのものを変更します。  \n",
    "状況に応じて使い分けましょう。"
   ]
  },
  {
   "cell_type": "code",
   "execution_count": null,
   "metadata": {
    "collapsed": true
   },
   "outputs": [],
   "source": [
    "np.sort(random_array)"
   ]
  },
  {
   "cell_type": "code",
   "execution_count": null,
   "metadata": {
    "collapsed": true
   },
   "outputs": [],
   "source": [
    "random_array"
   ]
  },
  {
   "cell_type": "code",
   "execution_count": null,
   "metadata": {
    "collapsed": true
   },
   "outputs": [],
   "source": [
    "random_array.sort()\n",
    "random_array"
   ]
  },
  {
   "cell_type": "markdown",
   "metadata": {},
   "source": [
    "#### 条件に合致する要素のインデックス番号\n",
    "\n",
    "条件に基づく値検索に相当することを実現できる点は、`array > 10` などの記述と同等ですが、  \n",
    "`np.where` は、条件に合致する要素のインデックス番号を格納した配列を次元ごとに用意して返します。"
   ]
  },
  {
   "cell_type": "code",
   "execution_count": null,
   "metadata": {
    "collapsed": true
   },
   "outputs": [],
   "source": [
    "np.where(random_array > 0.5)"
   ]
  },
  {
   "cell_type": "markdown",
   "metadata": {},
   "source": [
    "この結果は、インデックス番号を指定した配列の値抽出に利用することができます。  \n",
    "すなわち、元の配列と組み合わせると、検索条件に合致する要素を抽出できます。"
   ]
  },
  {
   "cell_type": "code",
   "execution_count": null,
   "metadata": {
    "collapsed": true
   },
   "outputs": [],
   "source": [
    "random_array[np.where(random_array > 0.5)]"
   ]
  },
  {
   "cell_type": "markdown",
   "metadata": {},
   "source": [
    "#### 配列の形状（シェイプ）変更\n",
    "\n",
    "配列の再整形をおこなうための関数です。  \n",
    "配列内の実際の要素数と指定形状で表現しうる要素数が食い違う場合、エラーとなりますので、注意してください。"
   ]
  },
  {
   "cell_type": "code",
   "execution_count": null,
   "metadata": {
    "collapsed": true
   },
   "outputs": [],
   "source": [
    "# np.arange との組み合わせは、よく使われる\n",
    "np.reshape(np.arange(50), (5, 10))"
   ]
  },
  {
   "cell_type": "markdown",
   "metadata": {},
   "source": [
    "#### 配列の 1次元化\n",
    "\n",
    "配列を1次元の「フラットな」形状とします。  \n",
    "例えば、先ほどの $y= ax + bx + ..$ の例では、結果の値が 2次元のデータとなりました。  \n",
    "この状態だとデータとして扱いづらく、1次元化したい時があります。\n",
    "\n",
    "この場合に、いくつか利用できる関数があります。"
   ]
  },
  {
   "cell_type": "code",
   "execution_count": null,
   "metadata": {
    "collapsed": true
   },
   "outputs": [],
   "source": [
    "some_array = np.random.rand(3, 5)\n",
    "some_array"
   ]
  },
  {
   "cell_type": "markdown",
   "metadata": {},
   "source": [
    "`array.flatten()` は、常に配列のコピーを返します。"
   ]
  },
  {
   "cell_type": "code",
   "execution_count": 102,
   "metadata": {},
   "outputs": [
    {
     "name": "stdout",
     "output_type": "stream",
     "text": [
      "[ 0  1  2  3  4  5  6  7  8  9 10 11 12 13 14 15 16 17 18 19 20 21 22 23 24\n",
      " 25 26 27 28 29 30 31 32 33 34 35 36 37 38 39 40 41 42 43 44 45 46 47 48 49\n",
      " 50 51 52 53 54 55 56 57 58 59 60 61 62 63 64 65 66 67 68 69 70 71 72 73 74\n",
      " 75 76 77 78 79 80 81 82 83 84 85 86 87 88 89 90 91 92 93 94 95 96 97 98 99]\n",
      "[ 0  1  2  3  4  5  6  7  8  9 10 11 12 13 14 15 16 17 18 19 20 21 22 23 24\n",
      " 25 26 27 28 29 30 31 32 33 34 35 36 37 38 39 40 41 42 43 44 45 46 47 48 49\n",
      " 50 51 52 53 54 55 56 57 58 59 60 61 62 63 64 65 66 67 68 69 70 71 72 73 74\n",
      " 75 76 77 78 79 80 81 82 83 84 85 86 87 88 89 90 91 92 93 94 95 96 97 98 99]\n"
     ]
    }
   ],
   "source": [
    "arr = some_array.flatten()\n",
    "arr[0] = 0.01\n",
    "print(arr)\n",
    "print(some_array)"
   ]
  },
  {
   "cell_type": "markdown",
   "metadata": {},
   "source": [
    "`array.ravel()` は、可能なら配列のコピーを避けます。  \n",
    "よって、変数に `array.ravel()` を格納した時、その変数を編集すると、元の配列も変化します。"
   ]
  },
  {
   "cell_type": "code",
   "execution_count": 103,
   "metadata": {},
   "outputs": [
    {
     "name": "stdout",
     "output_type": "stream",
     "text": [
      "[ 0  1  2  3  4  5  6  7  8  9 10 11 12 13 14 15 16 17 18 19 20 21 22 23 24\n",
      " 25 26 27 28 29 30 31 32 33 34 35 36 37 38 39 40 41 42 43 44 45 46 47 48 49\n",
      " 50 51 52 53 54 55 56 57 58 59 60 61 62 63 64 65 66 67 68 69 70 71 72 73 74\n",
      " 75 76 77 78 79 80 81 82 83 84 85 86 87 88 89 90 91 92 93 94 95 96 97 98 99]\n",
      "[ 0  1  2  3  4  5  6  7  8  9 10 11 12 13 14 15 16 17 18 19 20 21 22 23 24\n",
      " 25 26 27 28 29 30 31 32 33 34 35 36 37 38 39 40 41 42 43 44 45 46 47 48 49\n",
      " 50 51 52 53 54 55 56 57 58 59 60 61 62 63 64 65 66 67 68 69 70 71 72 73 74\n",
      " 75 76 77 78 79 80 81 82 83 84 85 86 87 88 89 90 91 92 93 94 95 96 97 98 99]\n"
     ]
    }
   ],
   "source": [
    "arr2 = some_array.ravel()\n",
    "arr2[0] = 0.01\n",
    "print(arr2)\n",
    "print(some_array)"
   ]
  },
  {
   "cell_type": "markdown",
   "metadata": {},
   "source": [
    "先ほど紹介した `reshape` も、1次元化の際に利用することが可能です。"
   ]
  },
  {
   "cell_type": "code",
   "execution_count": null,
   "metadata": {
    "collapsed": true
   },
   "outputs": [],
   "source": [
    "arr3 = some_array.reshape(-1)\n",
    "arr3[1] = 0.01\n",
    "print(arr3)\n",
    "print(some_array)"
   ]
  },
  {
   "cell_type": "markdown",
   "metadata": {},
   "source": [
    "#### 配列の結合\n",
    "\n",
    "異なる配列を結合したいケースも、時折生じます。  \n",
    "次元数を増やさず既存の axis を利用する場合は `np.concatenate` を使用します。"
   ]
  },
  {
   "cell_type": "code",
   "execution_count": 104,
   "metadata": {},
   "outputs": [
    {
     "name": "stdout",
     "output_type": "stream",
     "text": [
      "[[ 0.79898017  0.47107009]\n",
      " [ 0.97299206  0.90496988]]\n",
      "[[ 0.81951336  0.24877865]\n",
      " [ 0.92689608  0.19418063]]\n"
     ]
    }
   ],
   "source": [
    "array_a = np.random.rand(2, 2)\n",
    "array_b = np.random.rand(2, 2)\n",
    "print(array_a)\n",
    "print(array_b)"
   ]
  },
  {
   "cell_type": "markdown",
   "metadata": {},
   "source": [
    "2次元配列を縦に並べる場合は、axis=0 を指定し、"
   ]
  },
  {
   "cell_type": "code",
   "execution_count": 105,
   "metadata": {},
   "outputs": [
    {
     "data": {
      "text/plain": [
       "array([[ 0.79898017,  0.47107009],\n",
       "       [ 0.97299206,  0.90496988],\n",
       "       [ 0.81951336,  0.24877865],\n",
       "       [ 0.92689608,  0.19418063]])"
      ]
     },
     "execution_count": 105,
     "metadata": {},
     "output_type": "execute_result"
    }
   ],
   "source": [
    "np.concatenate((array_a, array_b), axis=0)"
   ]
  },
  {
   "cell_type": "markdown",
   "metadata": {},
   "source": [
    "2次元配列を横に並べる場合は、`axis=1` を指定します。"
   ]
  },
  {
   "cell_type": "code",
   "execution_count": 106,
   "metadata": {},
   "outputs": [
    {
     "data": {
      "text/plain": [
       "array([[ 0.79898017,  0.47107009,  0.81951336,  0.24877865],\n",
       "       [ 0.97299206,  0.90496988,  0.92689608,  0.19418063]])"
      ]
     },
     "execution_count": 106,
     "metadata": {},
     "output_type": "execute_result"
    }
   ],
   "source": [
    "np.concatenate((array_a, array_b), axis=1)"
   ]
  },
  {
   "cell_type": "markdown",
   "metadata": {},
   "source": [
    "np.stack を使うと、配列を新しい次元の方向に積み上げます。"
   ]
  },
  {
   "cell_type": "code",
   "execution_count": null,
   "metadata": {
    "collapsed": true
   },
   "outputs": [],
   "source": [
    "# 3次元の配列とし、データを積み上げる\n",
    "np.stack((array_a, array_b))"
   ]
  },
  {
   "cell_type": "markdown",
   "metadata": {},
   "source": [
    "### データの保存・読み込み\n",
    "\n",
    "numpy の配列データをファイルに保存したりファイルから読み込んだりする時は、`np.save` や `np.load` を使います。"
   ]
  },
  {
   "cell_type": "code",
   "execution_count": null,
   "metadata": {
    "collapsed": true
   },
   "outputs": [],
   "source": [
    "array = np.random.rand(20, 5)\n",
    "array"
   ]
  },
  {
   "cell_type": "code",
   "execution_count": null,
   "metadata": {
    "collapsed": true
   },
   "outputs": [],
   "source": [
    "np.save(\"array.npy\", array)"
   ]
  },
  {
   "cell_type": "markdown",
   "metadata": {},
   "source": [
    "これで、コンピュータ内にファイルとして `array.npy` が生成されたはずです。  \n",
    "実際にコンピュータ内にファイルがあることを確認してみてください。\n",
    "\n",
    "ファイルが存在することを確認できたら、配列を別の変数で読み込み、内容を確認してみます。"
   ]
  },
  {
   "cell_type": "code",
   "execution_count": null,
   "metadata": {
    "collapsed": true
   },
   "outputs": [],
   "source": [
    "loaded_array = np.load(\"array.npy\")\n",
    "loaded_array"
   ]
  },
  {
   "cell_type": "markdown",
   "metadata": {},
   "source": [
    "## さらなる Numpy の探求\n",
    "\n",
    "ここまで、numpy の最も基本的な機能の確認をしてきました。  \n",
    "これらの内容を運用できるだけでも、基本的なデータ分析なら可能です。  \n",
    "しかし、numpy の機能の幅は広く膨大であり、ここで紹介したものは氷山の一角に過ぎません。  \n",
    "\n",
    "さらなる情報を求める場合は、公式の[リファレンス](https://docs.scipy.org/doc/numpy/reference/)のほか、\n",
    "[Scipy Lecture Notes](http://www.scipy-lectures.org/intro/numpy/index.html) の Numpy 解説の項が参考になります。"
   ]
  }
 ],
 "metadata": {
  "anaconda-cloud": {},
  "kernelspec": {
   "display_name": "Python 3",
   "language": "python",
   "name": "python3"
  },
  "language_info": {
   "codemirror_mode": {
    "name": "ipython",
    "version": 3
   },
   "file_extension": ".py",
   "mimetype": "text/x-python",
   "name": "python",
   "nbconvert_exporter": "python",
   "pygments_lexer": "ipython3",
   "version": "3.6.2"
  },
  "nav_menu": {},
  "toc": {
   "colors": {
    "hover_highlight": "#DAA520",
    "running_highlight": "#FF0000",
    "selected_highlight": "#FFD700"
   },
   "moveMenuLeft": true,
   "nav_menu": {
    "height": "512px",
    "width": "252px"
   },
   "navigate_menu": true,
   "number_sections": false,
   "sideBar": true,
   "threshold": 4,
   "toc_cell": false,
   "toc_section_display": "block",
   "toc_window_display": false,
   "widenNotebook": false
  }
 },
 "nbformat": 4,
 "nbformat_minor": 2
}
